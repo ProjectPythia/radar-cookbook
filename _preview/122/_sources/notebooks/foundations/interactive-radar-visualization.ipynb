{
 "cells": [
  {
   "cell_type": "markdown",
   "id": "19317554-925a-424b-86c5-43ce7b9df5a0",
   "metadata": {},
   "source": [
    "<img src=\"../images/multipanel-interactive.png\" width=800 alt=\"Multipanel hvPlot\"></img>\n",
    "# Interactive Radar Visualization"
   ]
  },
  {
   "cell_type": "markdown",
   "id": "f43f16ad-81bd-4281-8b69-c330147451fe",
   "metadata": {},
   "source": [
    "## Overview\n",
    "Within this cookbook, we will detail how to create interactive plots of radar data!\n",
    "\n",
    "1. Reading data with Xradar\n",
    "1. Creating your first interactive figure with Xradar + hvPlot\n",
    "1. Combining your plots into a single dashboard\n",
    "1. Filtering and Checking Data Quality\n",
    "1. Create a Dashboard to Analyze ZDR Bias"
   ]
  },
  {
   "cell_type": "markdown",
   "id": "b85cbf6c-bfab-4f57-8735-63bf6a5014fc",
   "metadata": {},
   "source": [
    "## Imports"
   ]
  },
  {
   "cell_type": "code",
   "execution_count": null,
   "id": "c3d0759d-7a1e-4071-bd23-0e2fd2df52bd",
   "metadata": {
    "tags": []
   },
   "outputs": [],
   "source": [
    "import xradar as xd\n",
    "import fsspec\n",
    "import pyart\n",
    "from open_radar_data import DATASETS\n",
    "import hvplot.xarray\n",
    "import holoviews as hv\n",
    "import panel as pn\n",
    "\n",
    "hv.extension(\"bokeh\")"
   ]
  },
  {
   "cell_type": "markdown",
   "id": "6bc80ec6-2aae-466f-ab6b-2f194f01adf8",
   "metadata": {},
   "source": [
    "## Prerequisites\n",
    "\n",
    "It is recommended that you are familiar with working with weather radar data, the core data structures, and the basics of reading in different radar datasets.\n",
    "\n",
    "| Concepts | Importance | Notes |\n",
    "| --- | --- | --- |\n",
    "| [Intro to Cartopy](https://foundations.projectpythia.org/core/cartopy/cartopy.html) | Necessary | |\n",
    "| [Xradar User Guide: Plot a PPI](https://docs.openradarscience.org/projects/xradar/en/stable/notebooks/plot-ppi.html) | Necessary | |\n",
    "| [Understanding of NetCDF](https://foundations.projectpythia.org/core/data-formats/netcdf-cf.html) | Helpful | Familiarity with metadata structure |\n",
    "\n",
    "- **Time to learn**: 30 minutes"
   ]
  },
  {
   "cell_type": "markdown",
   "id": "6d2218e8-5606-402b-a5eb-d456fabb13ee",
   "metadata": {},
   "source": [
    "## Reading Data with Xradar\n",
    "\n",
    "While we have focused much of the content around the Python ARM Radar Toolkit (Py-ART), [Xradar](https://docs.openradarscience.org/projects/xradar/en/stable) is another helpful package we can use to work with this in xarray!\n",
    "\n",
    "Here, we use data from the Colombian weather radar network, using some remote access tools such as [fsspec](https://filesystem-spec.readthedocs.io/en/latest/)."
   ]
  },
  {
   "cell_type": "code",
   "execution_count": null,
   "id": "1949ed05-f36c-4468-9ad4-af22c075fe23",
   "metadata": {
    "tags": []
   },
   "outputs": [],
   "source": [
    "fs = fsspec.filesystem(\"s3\", anon=True)\n",
    "files = sorted(fs.glob(\"s3-radaresideam/l2_data/2022/08/09/Carimagua/CAR22080919*\"))\n",
    "files"
   ]
  },
  {
   "cell_type": "markdown",
   "id": "f917c7ae-68fa-49f1-a44e-fc6084a2e6c7",
   "metadata": {},
   "source": [
    "Once we have our files of interest, we can load one in. Let's read in a single file - for example, we are interested in the 8th file (`index=7`)"
   ]
  },
  {
   "cell_type": "code",
   "execution_count": null,
   "id": "aa282fd6-cd7e-47a6-878d-3f8b317bc2a2",
   "metadata": {
    "tags": []
   },
   "outputs": [],
   "source": [
    "task_file = fsspec.open_local(f'simplecache::s3://{files[7]}',\n",
    "                                s3={'anon': True},\n",
    "                                filecache={'cache_storage': '.'})"
   ]
  },
  {
   "cell_type": "markdown",
   "id": "2db15915-afae-4b1d-ad53-99dff955459b",
   "metadata": {},
   "source": [
    "### Read the data in xradar\n",
    "We use [xradar](https://docs.openradarscience.org/projects/xradar/en/stable/), an open-source toolkit to read weather radar data and load into the Xarray data structure. The data format here is an IRIS file, so we use the [`open_iris_datatree`](https://docs.openradarscience.org/projects/xradar/en/stable/notebooks/Iris.html) reader."
   ]
  },
  {
   "cell_type": "code",
   "execution_count": null,
   "id": "59a2ff5c-11e2-4b4a-b7d0-6325dbb72c2b",
   "metadata": {
    "tags": []
   },
   "outputs": [],
   "source": [
    "radar = xd.io.open_iris_datatree(task_file).xradar.georeference()\n",
    "radar"
   ]
  },
  {
   "cell_type": "markdown",
   "id": "857914ae-28ae-4aac-9937-66475132c090",
   "metadata": {},
   "source": [
    "## Creating Your First Interactive Figure with Xradar and hvPlot\n",
    "hvPlot is helpful tool when working with interactive visualizions! It is a tool built on top of several other packages, that we can use with Xarray.\n",
    "\n",
    "By default, this visualization plots azimuth along the y-axis and range along the y-axis. While this is desired in certain cases, we cannot gather much spatial information from this."
   ]
  },
  {
   "cell_type": "code",
   "execution_count": null,
   "id": "999baa2f-73c0-493f-8928-c20d6fa701fd",
   "metadata": {
    "tags": []
   },
   "outputs": [],
   "source": [
    "ref = radar[\"sweep_0\"].DBZH.hvplot.quadmesh(cmap='pyart_ChaseSpectral',\n",
    "                                            title='Horizontal Reflectivity (dBZ)',\n",
    "                                            clim=(-20,60))\n",
    "ref"
   ]
  },
  {
   "cell_type": "markdown",
   "id": "dd70b7e7-c6c7-45a6-b170-dd91783fc5da",
   "metadata": {},
   "source": [
    "### Refining Our Plot - Recreating a Plan Position Indicator (PPI)\n",
    "We instead would like to create a Plan Position Indicator (PPI) plot. Since we already georeferenced the dataset, we set x/y to be `x` and `y`, or the distance away from the radar, as well as tuning some additional parameters. We set `rasterize=True` to lazily load in the data, which renders the plot more quickly and increases resolution as we zoom in."
   ]
  },
  {
   "cell_type": "code",
   "execution_count": null,
   "id": "3d2502bb-d4dc-45e3-8cf9-61a53fc0dd2e",
   "metadata": {
    "tags": []
   },
   "outputs": [],
   "source": [
    "ref = radar[\"sweep_0\"].DBZH.hvplot.quadmesh(x='x',\n",
    "                                           y='y',\n",
    "                                           cmap='pyart_ChaseSpectral',\n",
    "                                           clabel='Horizontal Reflectivity (dBZ)',\n",
    "                                           title=f'Horizontal Reflectivity \\n {radar.attrs[\"instrument_name\"]} Radar',\n",
    "                                           clim=(-20, 60),\n",
    "                                           height=500,\n",
    "                                             rasterize=True,\n",
    "                                           width=600,)\n",
    "\n",
    "ref"
   ]
  },
  {
   "cell_type": "code",
   "execution_count": null,
   "id": "e61f8c13-732e-4d7d-9649-04bd5a503037",
   "metadata": {
    "tags": []
   },
   "outputs": [],
   "source": [
    "zdr = radar[\"sweep_0\"].ZDR.hvplot.quadmesh(x='x',\n",
    "                                             y='y',\n",
    "                                             cmap='pyart_ChaseSpectral',\n",
    "                                             clabel='Differential Reflectivity (dB)',\n",
    "                                             title=f'Horizontal Reflectivity \\n {radar.attrs[\"instrument_name\"]} Radar',\n",
    "                                             clim=(-1, 6),\n",
    "                                             height=500,\n",
    "                                             rasterize=True,\n",
    "                                             width=600,)\n",
    "zdr"
   ]
  },
  {
   "cell_type": "markdown",
   "id": "70cc3022-0ca5-4190-8af2-270e83ec9e9c",
   "metadata": {},
   "source": [
    "### Combining your plots into a single dashboard\n",
    "You can combine plots using the `+` syntax to add plots side-by-side, or `*` to add them to the same plot. For example, let's combine our reflectivity and velocity plot."
   ]
  },
  {
   "cell_type": "code",
   "execution_count": null,
   "id": "ca5a1bc4-9931-429d-bd81-50f4f4496deb",
   "metadata": {
    "tags": []
   },
   "outputs": [],
   "source": [
    "(ref + zdr).cols(1)"
   ]
  },
  {
   "cell_type": "markdown",
   "id": "65594dca-31c6-4b80-b5d7-92c101e07c97",
   "metadata": {},
   "source": [
    "## Filtering and Checking Data Quality\n",
    "We can also filter our data - notice the low values in both differential reflectivity and reflectivity. We can mask these out using `Xarray`!"
   ]
  },
  {
   "cell_type": "code",
   "execution_count": null,
   "id": "adf08965-7498-440f-8626-c2a4bb5f6927",
   "metadata": {
    "tags": []
   },
   "outputs": [],
   "source": [
    "# Subset our first sweep\n",
    "ds = radar[\"sweep_0\"].to_dataset()"
   ]
  },
  {
   "cell_type": "markdown",
   "id": "e5805719-60be-4f12-8a81-d1aa1becfeb6",
   "metadata": {},
   "source": [
    "### Determine Mask Thresholds\n",
    "Let's determine our thresholds for filtering the data, using histograms! These are available through `hvPlot`, using the `.hvplot.hist()` extension."
   ]
  },
  {
   "cell_type": "code",
   "execution_count": null,
   "id": "e772bb99-0ce2-45be-a0fd-82642fd8b871",
   "metadata": {
    "tags": []
   },
   "outputs": [],
   "source": [
    "zdr_hist = ds.ZDR.hvplot.hist()\n",
    "ref_hist = ds.DBZH.hvplot.hist()\n",
    "(zdr_hist + ref_hist).cols(1)"
   ]
  },
  {
   "cell_type": "markdown",
   "id": "10fa470b-0b9b-4224-81ec-5491fba7687c",
   "metadata": {},
   "source": [
    "Notice how we have very low values for both fields, which we can threshold using:\n",
    "- Differential Reflectivity < -5\n",
    "- Horizontal Reflectivity < -32"
   ]
  },
  {
   "cell_type": "code",
   "execution_count": null,
   "id": "797e6ab3-471b-4d03-a16f-4a1074aa6d21",
   "metadata": {
    "tags": []
   },
   "outputs": [],
   "source": [
    "ds = ds.where((ds.ZDR >= -5) & (ds.DBZH != -32))\n",
    "ds"
   ]
  },
  {
   "cell_type": "markdown",
   "id": "0e3a2df6-fa74-4472-bb82-3e3c038acb03",
   "metadata": {},
   "source": [
    "### Double Check our Filtered Data\n",
    "Let's double check that our filtering worked - notice the new, more representative distributions!"
   ]
  },
  {
   "cell_type": "code",
   "execution_count": null,
   "id": "7ac0c4a1-d5e4-4130-9536-3120b7069e77",
   "metadata": {
    "tags": []
   },
   "outputs": [],
   "source": [
    "zdr_hist = ds.ZDR.hvplot.hist()\n",
    "ref_hist = ds.DBZH.hvplot.hist()\n",
    "(zdr_hist + ref_hist).cols(1)"
   ]
  },
  {
   "cell_type": "markdown",
   "id": "29efd090-2943-4ba6-a574-4d9d521f7de9",
   "metadata": {},
   "source": [
    "## Create a Dashboard to Analyze ZDR Bias\n",
    "A common data quality check is differential reflectivity bias. This value should be around 0 for low values of horizontal reflectivity. We use a few steps here to create this visualization\n",
    "- Unstack the dataset so we are left with a single dimension - the single range gate (single points)\n",
    "- Create histograms (`.hist`) and a 2-dimensional histogram (`.hexbin`) to visualize the data\n",
    "- Stack these into single view using `gridspec`"
   ]
  },
  {
   "cell_type": "code",
   "execution_count": null,
   "id": "ee29f1cc-d916-4771-888b-f5f634d271a1",
   "metadata": {
    "tags": []
   },
   "outputs": [],
   "source": [
    "ds = ds.stack({\"gate\": {\"azimuth\", \"range\"}}).reset_index(\"gate\")\n",
    "\n",
    "hist_dbz = ds.hvplot.hist(\"DBZH\",\n",
    "                          width=500,\n",
    "                          height=200,\n",
    "                          title=\"Horizontal Reflectivity Distribution\",)\n",
    "hist_zdr = ds.hvplot.hist(\"ZDR\",\n",
    "                          height=400,\n",
    "                          title=\"Differential Reflectivity Distribution\",\n",
    "                         ).opts(invert_axes=True)\n",
    "hexbin = ds.hvplot.hexbin(x='DBZH',\n",
    "                          y='ZDR',\n",
    "                          title='Reflectivity vs. Differential Reflectivity Distribution',\n",
    "                          width=500,\n",
    "                          height=400) *  hv.HLine(0,\n",
    "                                                  label='Differential Reflectivity = 0 Line').opts(color='red',\n",
    "                                                           line_width=1)\n",
    "\n",
    "gspec = pn.GridSpec(width=800, height=400)\n",
    "\n",
    "gspec[0,   0:2  ] = hist_dbz\n",
    "gspec[1:3,   0:2  ] = hexbin\n",
    "gspec[1:3,   2  ] = hist_zdr\n",
    "\n",
    "gspec"
   ]
  },
  {
   "cell_type": "markdown",
   "id": "127774f0-0edb-4f51-95e1-d24fec6eef3d",
   "metadata": {},
   "source": [
    "## Summary\n",
    "Within this notebook, we covered how to use interactive visualizations with your weather radar data, including applications to checking data quality.\n",
    "\n",
    "### What's Next?\n",
    "Next, we will continue to explore methods of cleaning and visualizing data!"
   ]
  },
  {
   "cell_type": "markdown",
   "id": "e743814a-044e-470f-92eb-dc5fdfdb115d",
   "metadata": {},
   "source": [
    "## Resources and References\n",
    "- [Xradar documentation](https://docs.openradarscience.org/projects/xradar/en/stable/index.html)\n",
    "- [IDEAM radar data](https://registry.opendata.aws/ideam-radares/)"
   ]
  },
  {
   "cell_type": "code",
   "execution_count": null,
   "id": "2ada93cd-cfb8-4687-b7c3-6e626d20619c",
   "metadata": {},
   "outputs": [],
   "source": []
  }
 ],
 "metadata": {
  "kernelspec": {
   "display_name": "Python 3 (ipykernel)",
   "language": "python",
   "name": "python3"
  },
  "language_info": {
   "codemirror_mode": {
    "name": "ipython",
    "version": 3
   },
   "file_extension": ".py",
   "mimetype": "text/x-python",
   "name": "python",
   "nbconvert_exporter": "python",
   "pygments_lexer": "ipython3",
   "version": "3.9.16"
  }
 },
 "nbformat": 4,
 "nbformat_minor": 5
}
