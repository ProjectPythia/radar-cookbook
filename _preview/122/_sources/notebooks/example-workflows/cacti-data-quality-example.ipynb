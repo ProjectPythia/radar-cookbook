{
 "cells": [
  {
   "cell_type": "markdown",
   "id": "f6eee451-2129-4963-a5cb-5a1b1731ab1b",
   "metadata": {},
   "source": [
    "<img src=\"../images/phidp_kdp_comparison_cacti.png\" width=700 alt=\"Dual-Pol Comparison\"></img>"
   ]
  },
  {
   "cell_type": "markdown",
   "id": "b8fb9677-e850-4de6-82d6-de30a51f3fb0",
   "metadata": {},
   "source": [
    "# Data Quality Check from the CACTI Field Campaign"
   ]
  },
  {
   "cell_type": "markdown",
   "id": "bfb77e7a-c7e3-4ef2-830f-7119e0b153cc",
   "metadata": {},
   "source": [
    "## Overview\n",
    "\n",
    "Within this notebook, we will cover:\n",
    "\n",
    "1. How to access multiple datasets from the Atmospheric Radiation Measurment (ARM) user facility\n",
    "1. How to create a multipanel plot\n",
    "1. How to compare uncorrected vs. corrected data"
   ]
  },
  {
   "cell_type": "markdown",
   "id": "abe8111d-396a-4a89-b0ac-ba9267ed9004",
   "metadata": {},
   "source": [
    "## Prerequisites\n",
    "| Concepts | Importance | Notes |\n",
    "| --- | --- | --- |\n",
    "| [Matplotlib Basics](https://foundations.projectpythia.org/core/matplotlib/matplotlib-basics.html) | Required | Basic plotting |\n",
    "| [Introduction to Cartopy](https://foundations.projectpythia.org/core/cartopy/cartopy.html) | Helpful | Adding projections to your plot |\n",
    "| [Py-ART Basics](../foundations/pyart-basics) | Required | IO/Visualization |\n",
    "| [Py-ART Corrections](../foundations/pyart-corrections) | Required | Radar Corrections |\n",
    "---"
   ]
  },
  {
   "cell_type": "markdown",
   "id": "54c8c6f4-2cdd-43f1-b8a9-3bfe13228ef4",
   "metadata": {},
   "source": [
    "## Imports"
   ]
  },
  {
   "cell_type": "code",
   "execution_count": null,
   "id": "3bfd2ec1-9f41-434b-a8b4-fc12b7ff608b",
   "metadata": {},
   "outputs": [],
   "source": [
    "import os\n",
    "\n",
    "import act\n",
    "import matplotlib as mpl\n",
    "import matplotlib.pyplot as plt\n",
    "import numpy as np\n",
    "import cartopy.crs as ccrs\n",
    "import pyart\n",
    "import glob"
   ]
  },
  {
   "cell_type": "markdown",
   "id": "dd3890da-24d6-4750-8746-1f494a647bb5",
   "metadata": {},
   "source": [
    "## Grab Data from the ARM Data Portal\n",
    "\n",
    "One of the better cases of the CACTI field campaign was from November 11, 2018, where several intense storms traversed through the domain.\n",
    "\n",
    "### The Cloud, Aerosol, and Complex Terrain Interactions (CACTI) Field Campaign\n",
    "\n",
    "Data is available from the Atmospheric Radiation Measurment user facility, which helped to lead the CACTI field campaign in the Sierras de Cordoba region of Argentina.\n",
    "\n",
    "The data are available from the ARM data portal (https://adc.arm.gov/).\n",
    "\n",
    "We are interested in the corrected C-band radar data, which has the original and corrected data, with the datastream name\n",
    "* **`corcsapr2cmacppiM1.c1`**"
   ]
  },
  {
   "cell_type": "markdown",
   "id": "332bb086-6571-49e8-a110-02e0abfd314b",
   "metadata": {},
   "source": [
    "### Use the ARM Live API to Download the Data, using ACT\n",
    "\n",
    "The Atmospheric Data Community Toolkit (ACT) has a helpful module to interface with the data server:\n",
    "* [Download Data API](https://arm-doe.github.io/ACT/API/generated/act.discovery.download_data.html#act.discovery.download_data)"
   ]
  },
  {
   "cell_type": "markdown",
   "id": "7964cd7e-9791-4e8e-8aba-bd09b40a50e4",
   "metadata": {},
   "source": [
    "### Setup our Download Query\n",
    "Before downloading our data, we need to make sure we have an ARM Data Account, and ARM Live token. Both of these can be found using this link:\n",
    "- [ARM Live Signup](https://adc.arm.gov/armlive/livedata/home)\n",
    "\n",
    "Once you sign up, you will see your token. Copy and replace that where we have `arm_username` and `arm_password` below."
   ]
  },
  {
   "cell_type": "code",
   "execution_count": null,
   "id": "039fc162-d05a-4022-b077-a6f65237b2c5",
   "metadata": {},
   "outputs": [],
   "source": [
    "arm_username = os.getenv(\"ARM_USERNAME\")\n",
    "arm_password = os.getenv(\"ARM_PASSWORD\")\n",
    "\n",
    "datastream = \"corcsapr2cmacppiM1.c1\"\n",
    "\n",
    "start_date = \"2018-11-11T03:00:00\"\n",
    "end_date = \"2018-11-11T03:15:00\""
   ]
  },
  {
   "cell_type": "code",
   "execution_count": null,
   "id": "cd4bee72-2dd0-417d-8169-6181a373643c",
   "metadata": {},
   "outputs": [],
   "source": [
    "csapr_files = act.discovery.download_data(arm_username,\n",
    "                                          arm_password,\n",
    "                                          datastream,\n",
    "                                          start_date,\n",
    "                                          end_date,\n",
    "                                         )"
   ]
  },
  {
   "cell_type": "markdown",
   "id": "86c9755d-b029-49e9-a00b-7212edfb6e8f",
   "metadata": {},
   "source": [
    "## Read in and Investigate our Radar Data"
   ]
  },
  {
   "cell_type": "code",
   "execution_count": null,
   "id": "b94fd0d5-720d-4466-bd0a-f38357969d52",
   "metadata": {},
   "outputs": [],
   "source": [
    "radar = pyart.io.read(csapr_files[0])"
   ]
  },
  {
   "cell_type": "markdown",
   "id": "5d11ecd6-a7ab-4e17-80d6-b043d02779fb",
   "metadata": {},
   "source": [
    "### List the available fields and plot the corrected and uncorrected data"
   ]
  },
  {
   "cell_type": "code",
   "execution_count": null,
   "id": "d30e2202-3585-4d10-8d65-c9d40b48ba76",
   "metadata": {},
   "outputs": [],
   "source": [
    "sorted(list(radar.fields))"
   ]
  },
  {
   "cell_type": "markdown",
   "id": "98b28456-a3af-4e65-addb-e3b380ce6000",
   "metadata": {},
   "source": [
    "### Plot a Quick-Look of Reflectivity and Velocity\n",
    "Let's start by plotting our reflectivity and velocity fields, using a four panel plot showing the uncorrected and corrected fields. Notice how the data is masked, and the radial velocities are unfolded."
   ]
  },
  {
   "cell_type": "code",
   "execution_count": null,
   "id": "647a03b1-5482-4651-b32b-69367e87879d",
   "metadata": {},
   "outputs": [],
   "source": [
    "fig = plt.figure(figsize=(12,10))\n",
    "display = pyart.graph.RadarDisplay(radar)\n",
    "ax1 = plt.subplot(221)\n",
    "display.plot_ppi(\"reflectivity\", ax=ax1)\n",
    "\n",
    "ax2 = plt.subplot(222)\n",
    "display.plot_ppi(\"corrected_reflectivity\", ax=ax2)\n",
    "\n",
    "ax3 = plt.subplot(223)\n",
    "display.plot_ppi(\"mean_doppler_velocity\", vmin=-30, vmax=30, cmap='pyart_balance', ax=ax3)\n",
    "\n",
    "ax4 = plt.subplot(224)\n",
    "display.plot_ppi(\"corrected_velocity\", vmin=-30, vmax=30, cmap='pyart_balance', ax=ax4)\n",
    "\n",
    "plt.tight_layout()"
   ]
  },
  {
   "cell_type": "markdown",
   "id": "1fc486cc-1f1b-41e2-bcce-e8bc826b273d",
   "metadata": {},
   "source": [
    "## Investigate Dual-Pol Variables\n",
    "Several of the variables in this file are dual-polarization products, meaning it uses pulses in both the horizontal and vertical direction, and derives fields from this additional information.\n",
    "\n",
    "![Dual pol idea](https://www.weather.gov/images/ffc/dualpol_radar.gif)\n",
    "\n",
    "### Differential Phase Shift (PhiDP) and Specific Differential Phase (KDP)\n",
    "One of these dual-pol variables is called the **Differential Phase Shift (PhiDP)**, which is the difference in 2-way attenuation for the horizontal and vertical radar pulses moving through some target. This gives us information about the shape and concentration of the features we are interested in! It is also used to calculate the specific differential phase (KDP), which is the gradient in PhiDP, where positive KDP values indicate greater phase shift in the horizontal. Higher values of KDP can indicate an increase in the size and concentration of rain drops."
   ]
  },
  {
   "cell_type": "markdown",
   "id": "2f3f5c01-7c1c-4df6-addd-5d53800235fc",
   "metadata": {},
   "source": [
    "### Compare Uncorrected and Corrected PhiDP and KDP\n",
    "We start with the uncorrected fields, `specific_differential_phase` and `uncorrected_differential_phase`, and compare to the corrected fields `filtered_corrected_specific_diff_phase` and `filtered_corrected_differential_phase`.\n",
    "\n",
    "Notice how much cleaner the corrected fields are, and how the noise has been filtered, leading a more analysis-ready dataset."
   ]
  },
  {
   "cell_type": "code",
   "execution_count": null,
   "id": "03ee75e7-e594-4eb3-8610-8791027ff918",
   "metadata": {},
   "outputs": [],
   "source": [
    "display = pyart.graph.RadarMapDisplay(radar)\n",
    "fig = plt.figure(figsize=(18,10))\n",
    "\n",
    "# Extract the latitude and longitude of the radar and use it for the center of the map\n",
    "lat_center = round(radar.latitude['data'][0], 2)\n",
    "lon_center = round(radar.longitude['data'][0], 2)\n",
    "\n",
    "# Set the projection - in this case, we use a general PlateCarree projection\n",
    "projection = ccrs.PlateCarree()\n",
    "\n",
    "# Determine the ticks\n",
    "lat_ticks = np.arange(lat_center-2, lat_center+2, .5)\n",
    "lon_ticks = np.arange(lon_center-2, lon_center+2, 1.5)\n",
    "\n",
    "ax1 = plt.subplot(231, projection=projection)\n",
    "display.plot_ppi_map(\"reflectivity\", 0, resolution='10m', ax=ax1, lat_lines=lat_ticks, lon_lines=lon_ticks)\n",
    "\n",
    "\n",
    "ax3 = plt.subplot(232,projection=projection)\n",
    "display.plot_ppi_map(\"differential_phase\", 0, resolution='10m', ax=ax3, vmin=0, vmax=360, lat_lines=lat_ticks, lon_lines=lon_ticks)\n",
    "\n",
    "ax3 = plt.subplot(233,projection=projection)\n",
    "display.plot_ppi_map(\"specific_differential_phase\", 0, resolution='10m', ax=ax3, vmin=-1, vmax=4, cmap='pyart_Carbone42', lat_lines=lat_ticks, lon_lines=lon_ticks)\n",
    "\n",
    "ax4 = plt.subplot(234, projection=projection)\n",
    "display.plot_ppi_map(\"corrected_reflectivity\", 0, resolution='10m', ax=ax4, lat_lines=lat_ticks, lon_lines=lon_ticks)\n",
    "\n",
    "\n",
    "ax5 = plt.subplot(235, projection=projection)\n",
    "display.plot_ppi_map(\"filtered_corrected_differential_phase\", 0, resolution='10m', ax=ax5, vmin=0, vmax=360, cmap='pyart_Wild25', lat_lines=lat_ticks, lon_lines=lon_ticks)\n",
    "\n",
    "ax6 = plt.subplot(236,projection=projection)\n",
    "display.plot_ppi_map(\"filtered_corrected_specific_diff_phase\", 0, resolution='10m', ax=ax6, vmin=0, vmax=4, cmap='pyart_Carbone42', lat_lines=lat_ticks, lon_lines=lon_ticks)\n",
    "\n",
    "plt.tight_layout()\n",
    "plt.savefig('phidp_kdp_comparison_cacti.png', dpi=300, transparent=False)"
   ]
  },
  {
   "cell_type": "markdown",
   "id": "05a27ba9-c025-479e-980d-649bcbf4e3c8",
   "metadata": {},
   "source": [
    "### Create a Three Panel Figure Visualizing Reflectivity, Gate ID, and KDP\n",
    "Now that we understand how valuable these corrections can be, let's create a summary figure, giving a quick overview of the scatterers and associated polarimetric fields."
   ]
  },
  {
   "cell_type": "code",
   "execution_count": null,
   "id": "99199a24-40fd-4ed0-aab3-5b76339a923f",
   "metadata": {},
   "outputs": [],
   "source": [
    "display = pyart.graph.RadarMapDisplay(radar)\n",
    "fig = plt.figure(figsize=(18,5))\n",
    "\n",
    "# Extract the latitude and longitude of the radar and use it for the center of the map\n",
    "lat_center = round(radar.latitude['data'][0], 2)\n",
    "lon_center = round(radar.longitude['data'][0], 2)\n",
    "\n",
    "projection = ccrs.PlateCarree()\n",
    "\n",
    "# Determine the ticks\n",
    "lat_ticks = np.arange(lat_center-2, lat_center+2, .5)\n",
    "lon_ticks = np.arange(lon_center-2, lon_center+2, .5)\n",
    "\n",
    "ax1 = plt.subplot(131, projection=projection)\n",
    "display.plot_ppi_map(\"corrected_reflectivity\", 0, resolution='10m', ax=ax1, lat_lines=lat_ticks, lon_lines=lon_ticks)\n",
    "\n",
    "\n",
    "ax2 = plt.subplot(132, projection=projection)\n",
    "gate_ids = radar.fields[\"gate_id\"][\"flag_meanings\"].split(\" \")\n",
    "ticks = np.arange(len(gate_ids))\n",
    "boundaries = np.arange(-0.5, len(gate_ids))\n",
    "norm = mpl.colors.BoundaryNorm(boundaries, 256)\n",
    "display.plot_ppi_map(\"gate_id\", 0, ax=ax2, lat_lines=lat_ticks, resolution='10m', lon_lines=lon_ticks, cmap='pyart_LangRainbow12', ticks=ticks, norm=norm, ticklabs=gate_ids)\n",
    "\n",
    "ax3 = plt.subplot(133,projection=projection)\n",
    "display.plot_ppi_map(\"filtered_corrected_specific_diff_phase\", 0, resolution='10m', ax=ax3, vmin=0, vmax=4, cmap='pyart_Carbone42', lat_lines=lat_ticks, lon_lines=lon_ticks)\n",
    "\n",
    "plt.tight_layout()\n",
    "plt.savefig('three_panel_summary_cacti.png', dpi=300, transparent=False)"
   ]
  },
  {
   "cell_type": "markdown",
   "id": "a557625d-e3d9-448b-a17c-38091294d0f1",
   "metadata": {},
   "source": [
    "---\n",
    "## Summary\n",
    "Within this example, we walked through how to access ARM data from a field campaign in Argentina, plot a quick look of the data, and compare corrected and uncorrected dual-pol variables!\n",
    "\n",
    "### What's Next?\n",
    "We will showcase other data workflow examples, including field campaigns in other regions and data access methods from other data centers."
   ]
  },
  {
   "cell_type": "markdown",
   "id": "e6508b08-441b-48dd-b3ff-271b97f85392",
   "metadata": {},
   "source": [
    "## Resources and References\n",
    "* [ARM Data Discovery](https://adc.arm.gov/discovery)\n",
    "* [CACTI Field Campaign](https://www.arm.gov/research/campaigns/amf2018cacti)\n",
    "* CSAPR Radar Data:\n",
    "    - Bharadwaj, N., Collis, S., Hardin, J., Isom, B., Lindenmaier, I., Matthews, A., & Nelson, D. C-Band Scanning ARM Precipitation Radar (CSAPR2CFR). Atmospheric Radiation Measurement (ARM) User Facility. https://doi.org/10.5439/1467901\n",
    "* Py-ART:\n",
    "    - Helmus, J.J. & Collis, S.M., (2016). The Python ARM Radar Toolkit (Py-ART), a Library for Working with Weather Radar Data in the Python Programming Language. Journal of Open Research Software. 4(1), p.e25. DOI: http://doi.org/10.5334/jors.119\n",
    "* ACT:\n",
    "    - Adam Theisen, Ken Kehoe, Zach Sherman, Bobby Jackson, Alyssa Sockol, Corey Godine, Max Grover, Jason Hemedinger, Jenni Kyrouac, Maxwell Levin, Michael Giansiracusa (2022). The Atmospheric Data Community Toolkit (ACT). Zenodo. DOI: https://doi.org/10.5281/zenodo.6712343"
   ]
  },
  {
   "cell_type": "code",
   "execution_count": null,
   "id": "5eaa9e74-1f0f-4cff-a1db-fff4235004fc",
   "metadata": {},
   "outputs": [],
   "source": []
  }
 ],
 "metadata": {
  "kernelspec": {
   "display_name": "Python 3 (ipykernel)",
   "language": "python",
   "name": "python3"
  },
  "language_info": {
   "codemirror_mode": {
    "name": "ipython",
    "version": 3
   },
   "file_extension": ".py",
   "mimetype": "text/x-python",
   "name": "python",
   "nbconvert_exporter": "python",
   "pygments_lexer": "ipython3",
   "version": "3.9.16"
  }
 },
 "nbformat": 4,
 "nbformat_minor": 5
}
