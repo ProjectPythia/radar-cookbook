{
 "cells": [
  {
   "cell_type": "markdown",
   "id": "1b50afbd-665c-4fd9-8e6e-f7039c2b84ee",
   "metadata": {},
   "source": [
    "<img src=\"../images/storm-animation.gif\" width=600 alt=\"TRACER Animation\"></img>\n",
    "# Plotting Data from a Field Campaign (TRACER)"
   ]
  },
  {
   "cell_type": "markdown",
   "id": "84c6a08e-e1eb-4358-9991-4ecec6810482",
   "metadata": {},
   "source": [
    "## Overview\n",
    "\n",
    "Within this notebook, we will cover:\n",
    "\n",
    "1. How to access data from the Atmospheric Radiation Measurment (ARM) user facility\n",
    "1. How to setup a workflow to plot both cross sections (RHIs) and horizontal scans (PPIs)"
   ]
  },
  {
   "cell_type": "markdown",
   "id": "b3770751-dc1f-404b-918b-dfe14e05e035",
   "metadata": {},
   "source": [
    "## Prerequisites\n",
    "| Concepts | Importance | Notes |\n",
    "| --- | --- | --- |\n",
    "| [Matplotlib Basics](https://foundations.projectpythia.org/core/matplotlib/matplotlib-basics.html) | Required | Basic plotting |\n",
    "| [Py-ART Basics](../foundations/pyart-basics) | Required | IO/Visualization |"
   ]
  },
  {
   "cell_type": "markdown",
   "id": "75fd5b88-7e2f-4455-ab6d-27f3c2114d22",
   "metadata": {},
   "source": [
    "---\n",
    "## Imports"
   ]
  },
  {
   "cell_type": "code",
   "execution_count": null,
   "id": "5c4490ba-188b-4700-84db-de827efd2734",
   "metadata": {},
   "outputs": [],
   "source": [
    "import glob\n",
    "import os\n",
    "from pathlib import Path\n",
    "\n",
    "import act\n",
    "import imageio.v2 as imageio\n",
    "import matplotlib\n",
    "import matplotlib.pyplot as plt\n",
    "import pyart"
   ]
  },
  {
   "cell_type": "markdown",
   "id": "4e4ddb9b-dd3d-4eba-ad32-814cdc7590cb",
   "metadata": {
    "tags": []
   },
   "source": [
    "## Grab Data from ARM\n",
    "\n",
    "One of the better cases was from June 2, 2022, where several cold pools and single-cell storms traversed through the domain."
   ]
  },
  {
   "cell_type": "markdown",
   "id": "d6dc342b-b5b3-443a-b7b4-e40388dbc5c1",
   "metadata": {},
   "source": [
    "### The Tracking Aerosol Convection Interactions ExpeRiment (TRACER) Field Campaign\n",
    "\n",
    "Data is available from the Atmospheric Radiation Measurment user facility, which helped to lead the TRACER field campaign in Houston, Texas.\n",
    "\n",
    "The data are available from the ARM data portal (https://adc.arm.gov/).\n",
    "\n",
    "We are interested in the C-band radar, which is utilizing a cell-tracking algorithm, with the datastream\n",
    "* **`houcsapr2cfrS2.a1`**"
   ]
  },
  {
   "cell_type": "markdown",
   "id": "e9dab624-06a6-4f7a-af60-6a9ce2694552",
   "metadata": {},
   "source": [
    "### Use the ARM Live API to Download the Data, using ACT\n",
    "\n",
    "The Atmospheric Data Community Toolkit (ACT) has a helpful module to interface with the data server:\n",
    "* [Download Data API](https://arm-doe.github.io/ACT/API/generated/act.discovery.download_data.html#act.discovery.download_data)"
   ]
  },
  {
   "cell_type": "code",
   "execution_count": null,
   "id": "b36e5eb5-96bd-4dab-8523-540266006e13",
   "metadata": {},
   "outputs": [],
   "source": [
    "act.discovery.download_data?"
   ]
  },
  {
   "cell_type": "markdown",
   "id": "8cc87bac-cbc8-4c74-ae90-0be3e1bb04cc",
   "metadata": {},
   "source": [
    "### Setup our Download Query\n",
    "Before downloading our data, we need to make sure we have an ARM Data Account, and ARM Live token. Both of these can be found using this link:\n",
    "- [ARM Live Signup](https://adc.arm.gov/armlive/livedata/home)\n",
    "\n",
    "Once you sign up, you will see your token. Copy and replace that where we have `arm_username` and `arm_password` below."
   ]
  },
  {
   "cell_type": "code",
   "execution_count": null,
   "id": "01c11f87-1b25-4f5b-95ce-2e31240ffe0b",
   "metadata": {},
   "outputs": [],
   "source": [
    "arm_username = os.getenv(\"ARM_USERNAME\")\n",
    "arm_password = os.getenv(\"ARM_PASSWORD\")\n",
    "\n",
    "datastream = \"houcsapr2cfrS2.a1\"\n",
    "\n",
    "start_date = \"2022-06-02T11:30:00\"\n",
    "end_date = \"2022-06-02T11:40:00\"\n",
    "\n",
    "print(len(arm_username), len(arm_password))"
   ]
  },
  {
   "cell_type": "code",
   "execution_count": null,
   "id": "5628b84c-8c79-4ecc-9ed0-6488192f6340",
   "metadata": {},
   "outputs": [],
   "source": [
    "june2_csapr_files = act.discovery.download_data(arm_username,\n",
    "                                                arm_password,\n",
    "                                                datastream,\n",
    "                                                start_date,\n",
    "                                                end_date,\n",
    "                                               )"
   ]
  },
  {
   "cell_type": "markdown",
   "id": "948e9742-6b2a-46c9-bf51-61b92aabb8fe",
   "metadata": {},
   "source": [
    "## Read in and Plot the Data\n",
    "Before following running the next cells, make sure you have created the following directories:\n",
    "- `quicklooks/ppi`\n",
    "- `quicklooks/rhi`\n",
    "- `quicklooks/vpt`"
   ]
  },
  {
   "cell_type": "code",
   "execution_count": null,
   "id": "ea82b09c-9813-40c6-b462-93e8943804d5",
   "metadata": {},
   "outputs": [],
   "source": [
    "!mkdir quicklooks\n",
    "!mkdir quicklooks/rhi\n",
    "!mkdir quicklooks/ppi\n",
    "!mkdir quicklooks/vpt"
   ]
  },
  {
   "cell_type": "markdown",
   "id": "1bcdf4ab-061c-40e3-bed4-7a4ef23ef7d8",
   "metadata": {},
   "source": [
    "### Loop through and plot\n",
    "We read in the data, check the scan type, and plot a basic `RadarDisplay` which will automatically detect whether the plot is a vertical cross section (RHI or VPT), or a horizontal scan (PPI).\n",
    "\n",
    "This offers a solid \"quick look\", or initial visualization of the data."
   ]
  },
  {
   "cell_type": "code",
   "execution_count": null,
   "id": "b232ed23-1d40-471c-b488-870aa48fd527",
   "metadata": {},
   "outputs": [],
   "source": [
    "for file in june2_csapr_files:\n",
    "    radar = pyart.io.read(file)\n",
    "    print(radar.scan_type)\n",
    "    display = pyart.graph.RadarDisplay(radar)\n",
    "    display.plot(\"reflectivity\", 0)\n",
    "    plt.savefig(f\"quicklooks/{radar.scan_type}/{Path(file).stem}.png\", dpi=200)\n",
    "    plt.show()\n",
    "    plt.close() "
   ]
  },
  {
   "cell_type": "markdown",
   "id": "c1123d60-6439-4cdd-8f06-2f27278d3fba",
   "metadata": {
    "tags": []
   },
   "source": [
    "### Refine our Plot, Plot Velocity\n",
    "Let's focus on the vertical scans of the data, or the RHIs.\n",
    "\n",
    "You'll notice that we had some cells around 60 km from the radar, with the vertical axis less than 6 km.\n",
    "\n",
    "Let's reflect that in the plots!"
   ]
  },
  {
   "cell_type": "markdown",
   "id": "ab7e20f4-2f2d-44e9-97d8-baca12079d22",
   "metadata": {},
   "source": [
    "#### Customize our plot look\n",
    "Before we plot, we can change the size of our font, and style using the following parameters:"
   ]
  },
  {
   "cell_type": "code",
   "execution_count": null,
   "id": "1348da70-b550-439a-adb2-26784a685c67",
   "metadata": {},
   "outputs": [],
   "source": [
    "font = {'family' : 'serif',\n",
    "        'weight' : 'bold',\n",
    "        'size'   : 16}\n",
    "\n",
    "matplotlib.rc('font', **font)"
   ]
  },
  {
   "cell_type": "markdown",
   "id": "00757253-6bae-4294-b913-d9e347114356",
   "metadata": {},
   "source": [
    "#### Apply our Plotting Loop\n",
    "We:\n",
    "- Check to see if the scan is an RHI\n",
    "- Plot the reflectivity on one subplot\n",
    "- Plot velocity on the other\n",
    "- Save our plots"
   ]
  },
  {
   "cell_type": "code",
   "execution_count": null,
   "id": "6cdf280a-a316-4ed5-983a-f65532f67b5c",
   "metadata": {},
   "outputs": [],
   "source": [
    "for file in june2_csapr_files:\n",
    "    radar = pyart.io.read(file)\n",
    "    if radar.scan_type == 'rhi':\n",
    "        fig = plt.figure(figsize=(20,8))\n",
    "        display = pyart.graph.RadarDisplay(radar)\n",
    "        ax = plt.subplot(121)\n",
    "        display.plot(\"reflectivity\",\n",
    "                     0,\n",
    "                     ax=ax,\n",
    "                     vmin=-20,\n",
    "                     vmax=70)\n",
    "        plt.xlim(62,68)\n",
    "        plt.ylim(0, 6)\n",
    "        \n",
    "        ax2 = plt.subplot(122)\n",
    "        display.plot(\"mean_doppler_velocity\",\n",
    "                     0,\n",
    "                     ax=ax2, \n",
    "                     cmap='pyart_balance',\n",
    "                     vmin=-15,\n",
    "                     vmax=15)\n",
    "        plt.xlim(62,68)\n",
    "        plt.ylim(0, 6)\n",
    "        plt.savefig(f\"quicklooks/{radar.scan_type}/{Path(file).stem}.png\", dpi=200)\n",
    "        plt.show()\n",
    "        plt.close() "
   ]
  },
  {
   "cell_type": "markdown",
   "id": "97d6443f-8748-4c05-a9fb-91b523934563",
   "metadata": {},
   "source": [
    "### Create a GIF of teh RHI images"
   ]
  },
  {
   "cell_type": "code",
   "execution_count": null,
   "id": "aa460eae-069a-44c3-afe6-5fecb3a7c68c",
   "metadata": {},
   "outputs": [],
   "source": [
    "rhi_images = sorted(glob.glob(\"quicklooks/rhi/*\"))"
   ]
  },
  {
   "cell_type": "code",
   "execution_count": null,
   "id": "92b86399-d894-4940-a839-774951f10fdb",
   "metadata": {},
   "outputs": [],
   "source": [
    "with imageio.get_writer('storm-animation.gif', mode='I') as writer:\n",
    "    for filename in rhi_images:\n",
    "        image = imageio.imread(filename)\n",
    "        writer.append_data(image)"
   ]
  },
  {
   "cell_type": "markdown",
   "id": "80f42034-36af-4ae8-a5ef-deb2048fdd85",
   "metadata": {},
   "source": [
    "<img src=\"storm-animation.gif\" width=\"750\" align=\"center\">"
   ]
  },
  {
   "cell_type": "markdown",
   "id": "f0d1170d-2b89-463b-94b5-ea3229550272",
   "metadata": {},
   "source": [
    "---\n",
    "## Summary\n",
    "Within this example, we walked through how to access ARM data from a field campaign in Texas, plot a quick look of the data, and refine our plots to investigate a storm!\n",
    "\n",
    "### What's Next?\n",
    "We will showcase other data workflow examples, including field campaigns in other regions and data access methods from other data centers."
   ]
  },
  {
   "cell_type": "markdown",
   "id": "c70225df-ce45-4fb8-a2b9-1a2f70d030c0",
   "metadata": {},
   "source": [
    "## Resources and References\n",
    "* [ARM Data Discovery](https://adc.arm.gov/discovery)\n",
    "* [TRACER Field Campaign](https://www.arm.gov/research/campaigns/amf2021tracer)\n",
    "* CSAPR Radar Data:\n",
    "    - Bharadwaj, N., Collis, S., Hardin, J., Isom, B., Lindenmaier, I., Matthews, A., & Nelson, D. C-Band Scanning ARM Precipitation Radar (CSAPR2CFR). Atmospheric Radiation Measurement (ARM) User Facility. https://doi.org/10.5439/1467901\n",
    "* Py-ART:\n",
    "    - Helmus, J.J. & Collis, S.M., (2016). The Python ARM Radar Toolkit (Py-ART), a Library for Working with Weather Radar Data in the Python Programming Language. Journal of Open Research Software. 4(1), p.e25. DOI: http://doi.org/10.5334/jors.119\n",
    "* ACT:\n",
    "    - Adam Theisen, Ken Kehoe, Zach Sherman, Bobby Jackson, Alyssa Sockol, Corey Godine, Max Grover, Jason Hemedinger, Jenni Kyrouac, Maxwell Levin, Michael Giansiracusa (2022). The Atmospheric Data Community Toolkit (ACT). Zenodo. DOI: https://doi.org/10.5281/zenodo.6712343"
   ]
  },
  {
   "cell_type": "code",
   "execution_count": null,
   "id": "b61cb262-26ba-47dc-8d52-3225f084aaef",
   "metadata": {},
   "outputs": [],
   "source": []
  }
 ],
 "metadata": {
  "kernelspec": {
   "display_name": "Python 3 (ipykernel)",
   "language": "python",
   "name": "python3"
  },
  "language_info": {
   "codemirror_mode": {
    "name": "ipython",
    "version": 3
   },
   "file_extension": ".py",
   "mimetype": "text/x-python",
   "name": "python",
   "nbconvert_exporter": "python",
   "pygments_lexer": "ipython3",
   "version": "3.9.16"
  },
  "vscode": {
   "interpreter": {
    "hash": "31f2aee4e71d21fbe5cf8b01ff0e069b9275f58929596ceb00d14d90e3e16cd6"
   }
  }
 },
 "nbformat": 4,
 "nbformat_minor": 5
}
