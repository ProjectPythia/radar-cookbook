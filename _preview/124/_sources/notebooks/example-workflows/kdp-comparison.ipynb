{
 "cells": [
  {
   "cell_type": "markdown",
   "id": "f6eee451-2129-4963-a5cb-5a1b1731ab1b",
   "metadata": {},
   "source": [
    "<img src=\"../images/kdp_comparison.jpg\" width=700 alt=\"KDP Comparison\"></img>"
   ]
  },
  {
   "cell_type": "markdown",
   "id": "b8fb9677-e850-4de6-82d6-de30a51f3fb0",
   "metadata": {},
   "source": [
    "# Specific Differential Phase ($K_{DP}$) retrieval methods comparison"
   ]
  },
  {
   "cell_type": "markdown",
   "id": "bfb77e7a-c7e3-4ef2-830f-7119e0b153cc",
   "metadata": {},
   "source": [
    "## Overview\n",
    "\n",
    "Within this notebook, we will cover:\n",
    "\n",
    "1. How to access Colombian national weather radar network data from AWS\n",
    "1. How to read and create a multipanel plot\n",
    "1. How to retrieve and compare three different methods "
   ]
  },
  {
   "cell_type": "markdown",
   "id": "abe8111d-396a-4a89-b0ac-ba9267ed9004",
   "metadata": {},
   "source": [
    "## Prerequisites\n",
    "| Concepts | Importance | Notes |\n",
    "| --- | --- | --- |\n",
    "| [Matplotlib Basics](https://foundations.projectpythia.org/core/matplotlib/matplotlib-basics.html) | Required | Basic plotting |\n",
    "| [Introduction to Cartopy](https://foundations.projectpythia.org/core/cartopy/cartopy.html) | Helpful | Adding projections to your plot |\n",
    "| [Py-ART Basics](../foundations/pyart-basics) | Required | IO/Visualization |\n",
    "| [Py-ART Corrections](../foundations/pyart-corrections) | Required | Radar Corrections |\n",
    "| [Py-ART Example-workflows](../Example-workflows/cacti-data-quality-example) | Required | Dual-polarization variables |\n",
    "---"
   ]
  },
  {
   "cell_type": "markdown",
   "id": "54c8c6f4-2cdd-43f1-b8a9-3bfe13228ef4",
   "metadata": {},
   "source": [
    "## Imports"
   ]
  },
  {
   "cell_type": "code",
   "execution_count": null,
   "id": "3bfd2ec1-9f41-434b-a8b4-fc12b7ff608b",
   "metadata": {
    "tags": []
   },
   "outputs": [],
   "source": [
    "import xradar as xd\n",
    "import pyart\n",
    "import xarray as xr\n",
    "import numpy as np\n",
    "import fsspec\n",
    "import matplotlib.pyplot as plt\n",
    "import cartopy.crs as ccrs\n",
    "from open_radar_data import DATASETS\n",
    "import matplotlib.ticker as mticker\n",
    "import warnings\n",
    "\n",
    "warnings.filterwarnings(\"ignore\")"
   ]
  },
  {
   "cell_type": "markdown",
   "id": "dd3890da-24d6-4750-8746-1f494a647bb5",
   "metadata": {
    "tags": []
   },
   "source": [
    "## How to access Colombian national weather radar network data from AWS\n",
    "\n",
    "Let’s start first with Level 2 radar data, which is ground-based radar data collected by the Instituto de Hidrología, Meteorología y Estudios Ambientales (IDEAM)."
   ]
  },
  {
   "cell_type": "markdown",
   "id": "7f93d547-a87e-43e2-8404-f97663bef453",
   "metadata": {
    "tags": []
   },
   "source": [
    "### Level 2 Data\n",
    "Level 2 data includes all of the fields in a single file - for example, a file may include:\n",
    "- Reflectivity\n",
    "- Velocity\n",
    "- Differential reflectivity"
   ]
  },
  {
   "cell_type": "markdown",
   "id": "c1ab76d4-7f30-4053-afdf-64967fbc7812",
   "metadata": {},
   "source": [
    "### Search for data during a Mesoscale Convective System - MCS event (August 9, 2022)\n",
    "\n",
    "We will access data from the **`radaresideam bucket`**, with the data organized as:\n",
    "\n",
    "```\n",
    "s3://s3-radaresideam/l2_data/year/month/date/radar_name/{radar_name[:3].upper()}{year}{month}{date}{hour}{minute}{second}.RAW*\n",
    "```\n",
    " \n",
    "We can use [fsspec](https://filesystem-spec.readthedocs.io/en/latest/), a tool to work with filesystems in Python, to search through the bucket to find our files!\n",
    "\n",
    "We start first by setting up our [AWS S3 filesystem](https://aws.amazon.com/s3/)"
   ]
  },
  {
   "cell_type": "code",
   "execution_count": null,
   "id": "98d719fe-3127-4653-863c-daee0d494472",
   "metadata": {
    "tags": []
   },
   "outputs": [],
   "source": [
    "fs = fsspec.filesystem(\"s3\", anon=True)"
   ]
  },
  {
   "cell_type": "markdown",
   "id": "198b439a-9593-4932-9bf1-76df5d338aac",
   "metadata": {},
   "source": [
    "Now, we can list files from August 9, 2022, from Carimagua radar (CAR), around 1900 UTC."
   ]
  },
  {
   "cell_type": "code",
   "execution_count": null,
   "id": "cd4bee72-2dd0-417d-8169-6181a373643c",
   "metadata": {
    "tags": []
   },
   "outputs": [],
   "source": [
    "files = sorted(fs.glob(\"s3-radaresideam/l2_data/2022/08/09/Carimagua/CAR22080919*\"))\n",
    "files[:4]"
   ]
  },
  {
   "cell_type": "markdown",
   "id": "86c9755d-b029-49e9-a00b-7212edfb6e8f",
   "metadata": {},
   "source": [
    "## Read the data into Py-ART\n",
    "\n",
    "\n",
    "When reading into Py-ART, we can use the `pyart.io.read_sigmet` or `pyart.io.read` module to read in our data."
   ]
  },
  {
   "cell_type": "code",
   "execution_count": null,
   "id": "b94fd0d5-720d-4466-bd0a-f38357969d52",
   "metadata": {
    "tags": []
   },
   "outputs": [],
   "source": [
    "radar = pyart.io.read_sigmet(f's3://{files[7]}')"
   ]
  },
  {
   "cell_type": "markdown",
   "id": "5d11ecd6-a7ab-4e17-80d6-b043d02779fb",
   "metadata": {},
   "source": [
    "### List the available fields "
   ]
  },
  {
   "cell_type": "code",
   "execution_count": null,
   "id": "d30e2202-3585-4d10-8d65-c9d40b48ba76",
   "metadata": {
    "tags": []
   },
   "outputs": [],
   "source": [
    "sorted(list(radar.fields))"
   ]
  },
  {
   "cell_type": "markdown",
   "id": "98b28456-a3af-4e65-addb-e3b380ce6000",
   "metadata": {},
   "source": [
    "### Plot dual-pol variables\n",
    "Let's plot the radar reflectivity ($Z$), differential reflectivity ($Z_{DR}$), specific differential phase ($K_{DP}$), and cross correlation ratio ($\\rho_{HV}$) using a four panel plot."
   ]
  },
  {
   "cell_type": "code",
   "execution_count": null,
   "id": "647a03b1-5482-4651-b32b-69367e87879d",
   "metadata": {
    "tags": []
   },
   "outputs": [],
   "source": [
    "fig = plt.figure(figsize=(12,10))\n",
    "display = pyart.graph.RadarMapDisplay(radar)\n",
    "# Extract the latitude and longitude of the radar and use it for the center of the map\n",
    "lat_center = round(radar.latitude['data'][0], 0)\n",
    "lon_center = round(radar.longitude['data'][0], 0)\n",
    "\n",
    "\n",
    "# Determine the ticks\n",
    "lat_ticks = np.arange(lat_center-3, lat_center+3, 1.5)\n",
    "lon_ticks = np.arange(lon_center-3, lon_center+3, 1.5)\n",
    "\n",
    "# Set the projection - in this case, we use a general PlateCarree projection\n",
    "projection = ccrs.PlateCarree()\n",
    "ax1 = plt.subplot(221, projection=projection)\n",
    "display.plot_ppi_map(\"reflectivity\", 0, \n",
    "                     resolution='10m', \n",
    "                     ax=ax1, \n",
    "                     lat_lines=lat_ticks, \n",
    "                     lon_lines=lon_ticks)\n",
    "\n",
    "ax2 = plt.subplot(222, projection=projection)\n",
    "display.plot_ppi_map(\"differential_reflectivity\", 0, \n",
    "                     resolution='10m', \n",
    "                     ax=ax2, \n",
    "                     lat_lines=lat_ticks, \n",
    "                     lon_lines=lon_ticks)\n",
    "\n",
    "ax3 = plt.subplot(223, projection=projection)\n",
    "display.plot_ppi_map(\"differential_phase\", 0, \n",
    "                     vmin=0, vmax=180,  \n",
    "                     ax=ax3, resolution='10m', \n",
    "                     lat_lines=lat_ticks, \n",
    "                     lon_lines=lon_ticks)\n",
    "\n",
    "ax4 = plt.subplot(224, projection=projection)\n",
    "display.plot_ppi_map(\"specific_differential_phase\", 0, \n",
    "                     vmin=0, vmax=10,  \n",
    "                     ax=ax4, resolution='10m', \n",
    "                     lat_lines=lat_ticks, \n",
    "                     lon_lines=lon_ticks)\n",
    "plt.tight_layout()"
   ]
  },
  {
   "cell_type": "markdown",
   "id": "d40a8ce0-e9d3-4714-86ef-004aad729417",
   "metadata": {},
   "source": [
    "We can notice from the previous figure that this is a intense precipitation event in Colombia with reflectivity values up to +55 dBZ, big raindrops ($Z_{DR}$ +3 dB), heavy rainfall rates with $K_{DP}$ +10 dB/km, and multiples foldings in differential phase ($Phi_{DP}$). We can notice negative values in the $Z_{DR}$ panel (differential attenuation) in the north-east side of the radar location. "
   ]
  },
  {
   "cell_type": "markdown",
   "id": "3c5b4726-14fa-41f0-8e07-337f2196ad7a",
   "metadata": {
    "tags": []
   },
   "source": [
    "## $K_{DP}$ retrieval methods\n",
    "\n",
    "Although the radar data already contains the specific differential phase ($K_{DP}$), we can use the following alternative methods for comparison:\n",
    "1. Variational method by Maesaka et al. (2012). \n",
    "1. Kalman filter method by Schneebeli and al. (2014)\n",
    "1. Vulpiani method by Vulpiani et al. (2012)"
   ]
  },
  {
   "cell_type": "markdown",
   "id": "6c320dd6-e4c8-43e8-8c46-8ce35b06a225",
   "metadata": {
    "tags": []
   },
   "source": [
    "The `Py-Art` Python package includes all the methods mentioned above. We can access the retrieval methods using `pyart.retrieve.kdp_maesaka`, `pyart.retrieve.kdp_schneebeli`, and `pyart.retrieve.kdp_vulpiani`. The output from all retrieval methods is a tuple with two dictionaries that contain the retrieved $K_{DP}$ as well as the Differential phase ($Phi_{DP}$)."
   ]
  },
  {
   "cell_type": "code",
   "execution_count": null,
   "id": "b0376391-8964-4646-9e93-53bc48c21610",
   "metadata": {
    "tags": []
   },
   "outputs": [],
   "source": [
    "%%time\n",
    "kdp_maesaka= pyart.retrieve.kdp_maesaka(radar)"
   ]
  },
  {
   "cell_type": "code",
   "execution_count": null,
   "id": "25664c5a-6d44-4844-ac64-82f7adaee208",
   "metadata": {
    "tags": []
   },
   "outputs": [],
   "source": [
    "%%time\n",
    "kdp_schneebeli = pyart.retrieve.kdp_schneebeli(radar, band='C', parallel=True)"
   ]
  },
  {
   "cell_type": "code",
   "execution_count": null,
   "id": "34a7ca1a-5f65-4c43-81fa-64d780a402cd",
   "metadata": {
    "tags": []
   },
   "outputs": [],
   "source": [
    "%%time\n",
    "kdp_vulpiani = pyart.retrieve.kdp_vulpiani(radar, band='C', parallel=True)"
   ]
  },
  {
   "cell_type": "markdown",
   "id": "9b7eef7b-0397-47af-8c0a-e2716a895e3d",
   "metadata": {},
   "source": [
    "This is how a dictionary with the retrieve $K_{DP}$ looks like"
   ]
  },
  {
   "cell_type": "code",
   "execution_count": null,
   "id": "a2f6c936-00c3-4461-9893-4656bd98e7b6",
   "metadata": {
    "tags": []
   },
   "outputs": [],
   "source": [
    "kdp_vulpiani[0]"
   ]
  },
  {
   "cell_type": "markdown",
   "id": "284b7f8d-c214-4033-a72c-bc3e04c209f9",
   "metadata": {},
   "source": [
    "### Add the new retrieved $K_{DP}$ values to the radar object\n",
    "We can add new fields to our `Py-Art` radar object by using the `pyart.core.Radar.add_field` method as follows"
   ]
  },
  {
   "cell_type": "code",
   "execution_count": null,
   "id": "62081a60-e2f8-47c3-b5b0-676b96abb3b9",
   "metadata": {
    "tags": []
   },
   "outputs": [],
   "source": [
    "radar.add_field('kdp_maesaka', kdp_maesaka[0])\n",
    "radar.add_field('phidp_maesaka', kdp_maesaka[1])\n",
    "radar.add_field('kdp_schneebeli', kdp_schneebeli[0])\n",
    "radar.add_field('phidp_schneebeli', kdp_schneebeli[1])\n",
    "radar.add_field('kdp_vulpiani', kdp_vulpiani[0])\n",
    "radar.add_field('phidp_vulpiani', kdp_vulpiani[1])"
   ]
  },
  {
   "cell_type": "markdown",
   "id": "634ec1d2-09aa-42a0-a60e-4b583eb9bb2a",
   "metadata": {},
   "source": [
    "### List the new fields/variables"
   ]
  },
  {
   "cell_type": "code",
   "execution_count": null,
   "id": "6af90a97-baa1-4e8a-8d1b-8bf82ff63d46",
   "metadata": {
    "tags": []
   },
   "outputs": [],
   "source": [
    "sorted(list(radar.fields))"
   ]
  },
  {
   "cell_type": "markdown",
   "id": "2f3f5c01-7c1c-4df6-addd-5d53800235fc",
   "metadata": {},
   "source": [
    "### Compare default and retrieved $Phi_{DP}$ and $K_{DP}$\n",
    "We can look at the difference between all the methods using a side-by-side comparison figure"
   ]
  },
  {
   "cell_type": "code",
   "execution_count": null,
   "id": "03ee75e7-e594-4eb3-8610-8791027ff918",
   "metadata": {},
   "outputs": [],
   "source": [
    "# list of the variables to be plotted\n",
    "vpol = ['specific_differential_phase', 'kdp_maesaka', 'kdp_schneebeli', 'kdp_vulpiani',\n",
    "        'differential_phase', 'phidp_maesaka', 'phidp_schneebeli', 'phidp_vulpiani']\n",
    "# list of cmaps\n",
    "cmaps = ['pyart_Carbone42'] * 4 + ['pyart_Wild25'] * 4\n",
    "\n",
    "# list of maximum values\n",
    "vmaxs = [10] * 4 + [180]  * 4 \n",
    "\n",
    "# list of tltles\n",
    "titles = [r\"$K_{DP} \\ Default$\", r\"$K_{DP} \\ Maesaka$\", r\"$K_{DP} \\ Schneebeli$\", r\"$K_{DP} \\ Vulpiani$\", \n",
    "          r\"$Phi_{DP} \\ Default$\", r\"$Phi_{DP} \\ Maesaka$\", r\"$Phi_{DP} \\ Schneebeli$\", r\"$Phi_{DP} \\ Vulpiani$\"]\n",
    "\n",
    "# display object from PyArt\n",
    "display = pyart.graph.RadarMapDisplay(radar)\n",
    "fig, axs = plt.subplots(2, 4, figsize=(14,6), subplot_kw={'projection': ccrs.PlateCarree()}, sharey=True, sharex=True)\n",
    "\n",
    "# Extract the latitude and longitude of the radar and use it for the center of the map\n",
    "lat_center = round(radar.latitude['data'][0], 0)\n",
    "lon_center = round(radar.longitude['data'][0], 0)\n",
    "\n",
    "# Set the projection - in this case, we use a general PlateCarree projection\n",
    "projection = ccrs.PlateCarree()\n",
    "\n",
    "# Determine the ticks\n",
    "lat_ticks = np.arange(lat_center-3, lat_center+3, 1.5)\n",
    "lon_ticks = np.arange(lon_center-3, lon_center+3, 1.5)\n",
    "\n",
    "#make axis flatten for iteration\n",
    "axis = axs.flatten()\n",
    "# Loop to create all plots\n",
    "for idx, ax in enumerate(axis):\n",
    "    display.plot_ppi_map(vpol[idx], 0, resolution='10m', ax=ax, \n",
    "                         lat_lines=lat_ticks, \n",
    "                         lon_lines=lon_ticks,\n",
    "                         cmap=cmaps[idx],\n",
    "                         vmin=0, \n",
    "                         vmax=vmaxs[idx],\n",
    "                         colorbar_flag=False, \n",
    "                         title_flag=False, \n",
    "                         add_grid_lines=False)\n",
    "    ax.set_title(titles[idx])\n",
    "    gl = ax.gridlines(draw_labels=True, rasterized=True)\n",
    "    gl.xlocator = mticker.FixedLocator(lon_ticks)\n",
    "    gl.ylabels_right = False\n",
    "    gl.xlabels_top = False\n",
    "    gl.ylabels_left = False\n",
    "    gl.xlabels_bottom = False\n",
    "    if (idx == 0) | (idx== 4):\n",
    "        gl.ylabels_left = True\n",
    "    if  idx>= 4:\n",
    "        gl.xlabels_bottom = True\n",
    "\n",
    "fig.tight_layout()\n",
    "fig.colorbar(display.plots[0], ax=axis[:4], pad=.01, label='$Specific \\ differential \\  phase  \\ [deg/km]$')\n",
    "fig.colorbar(display.plots[-1], ax=axis[-4:], pad=.01, label='$Differential \\ phase  \\ [deg]$')\n",
    "# fig.savefig('../images/kdp_comparison.jpg')"
   ]
  },
  {
   "cell_type": "markdown",
   "id": "27c5d892-c77c-468c-9a9a-1ee3d51e9d0e",
   "metadata": {},
   "source": [
    "In the top row, we can see the Specific Differential Phase ($K_{DP}$), and in the bottom row, the Differential Phase ($Phi_{DP}$). We can notice that the default $K_{DP}$ shows values +10 deg/km, which we think is too high. On the other hand, Maesake's and Scneebeli's methods' output suggests that they are probably not performing well. However, the Vulpiani method performs better since we can observe more realistic values on $K_{DP}$ and $Phi_{DP}$.  "
   ]
  },
  {
   "cell_type": "markdown",
   "id": "aa080860-b7f9-482f-8af4-46de3fe4c172",
   "metadata": {},
   "source": [
    "<div class=\"admonition alert alert-warning\">\n",
    "    <p class=\"admonition-title\" style=\"font-weight:bold\">Warning</p>\n",
    "    This notebook is intended to be demonstrative; therefore, we can not make any conclusions regarding the methods we tested.\n",
    "</div>"
   ]
  },
  {
   "cell_type": "markdown",
   "id": "a557625d-e3d9-448b-a17c-38091294d0f1",
   "metadata": {},
   "source": [
    "---\n",
    "## Summary\n",
    "Within this example, we walked through how to access Colombian radar data from IDEAM, plot a quick look of the data, and compare the the specific differential phase using the default and three different methods!\n",
    "\n",
    "### What's Next?\n",
    "We will showcase other data workflow examples, including field campaigns in other regions and data access methods from other data centers."
   ]
  },
  {
   "cell_type": "markdown",
   "id": "e6508b08-441b-48dd-b3ff-271b97f85392",
   "metadata": {},
   "source": [
    "## Resources and References\n",
    "* [IDEAM radar data](https://registry.opendata.aws/ideam-radares/)\n",
    "* Py-ART:\n",
    "    - Helmus, J.J. & Collis, S.M., (2016). The Python ARM Radar Toolkit (Py-ART), a Library for Working with Weather Radar Data in the Python Programming Language. Journal of Open Research Software. 4(1), p.e25. DOI: http://doi.org/10.5334/jors.119\n",
    "* ACT:\n",
    "    - Adam Theisen, Ken Kehoe, Zach Sherman, Bobby Jackson, Alyssa Sockol, Corey Godine, Max Grover, Jason Hemedinger, Jenni Kyrouac, Maxwell Levin, Michael Giansiracusa (2022). The Atmospheric Data Community Toolkit (ACT). Zenodo. DOI: https://doi.org/10.5281/zenodo.6712343\n",
    "* Maesaka, T., Iwanami, K. and Maki, M., 2012: Non-negative KDP Estimation by Monotone Increasing PHIDP Assumption below Melting Layer. The Seventh European Conference on Radar in Meteorology and Hydrology.\n",
    "* Schneebeli, M., Grazioli, J., and Berne, A., 2014: Improved Estimation of the Specific Differential Phase SHIFT Using a Compilation of Kalman Filter Ensembles, IEEE T. Geosci. Remote Sens., 52, 5137-5149, https://doi:10.1109/TGRS.2013.2287017\n",
    "* Gianfranco Vulpiani, Mario Montopoli, Luca Delli Passeri, Antonio G. Gioia, Pietro Giordano, and Frank S. Marzano, 2012: On the Use of Dual-Polarized C-Band Radar for Operational Rainfall Retrieval in Mountainous Areas. J. Appl. Meteor. Climatol., 51, 405-425, doi: https://10.1175/JAMC-D-10-05024.1."
   ]
  },
  {
   "cell_type": "code",
   "execution_count": null,
   "id": "5eaa9e74-1f0f-4cff-a1db-fff4235004fc",
   "metadata": {},
   "outputs": [],
   "source": []
  }
 ],
 "metadata": {
  "kernelspec": {
   "display_name": "Python 3 (ipykernel)",
   "language": "python",
   "name": "python3"
  },
  "language_info": {
   "codemirror_mode": {
    "name": "ipython",
    "version": 3
   },
   "file_extension": ".py",
   "mimetype": "text/x-python",
   "name": "python",
   "nbconvert_exporter": "python",
   "pygments_lexer": "ipython3",
   "version": "3.9.16"
  }
 },
 "nbformat": 4,
 "nbformat_minor": 5
}
