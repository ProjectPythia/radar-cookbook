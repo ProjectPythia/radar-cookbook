{
 "cells": [
  {
   "cell_type": "markdown",
   "id": "72a2d691-57f2-48da-8ca8-34134d9d72ab",
   "metadata": {},
   "source": [
    "<img src=\"../images/sample-nexrad-moore.png\" width=600 alt=\"ARM Logo\"></img>"
   ]
  },
  {
   "cell_type": "markdown",
   "id": "9dc63b4a-ebb9-41be-bf43-ff4549f37cbd",
   "metadata": {},
   "source": [
    "# Looking at NEXRAD Data from Moore, Oklahoma\n",
    "---"
   ]
  },
  {
   "cell_type": "markdown",
   "id": "79d482d1-ae86-44bc-ae65-7abbc8afe278",
   "metadata": {},
   "source": [
    "## Overview\n",
    "   \n",
    "Within this notebook, we will cover:\n",
    "\n",
    "1. How to access NEXRAD data from AWS\n",
    "1. How to read this data into Py-ART\n",
    "1. How to customize your plots and maps\n",
    "\n",
    "## Prerequisites\n",
    "| Concepts | Importance | Notes |\n",
    "| --- | --- | --- |\n",
    "| [Intro to Cartopy](https://foundations.projectpythia.org/core/cartopy/cartopy.html) | Required | Projections and Features |\n",
    "| [Matplotlib Basics](https://foundations.projectpythia.org/core/matplotlib/matplotlib-basics.html) | Required | Basic plotting |\n",
    "| [Py-ART Basics](../foundations/pyart-basics) | Required | IO/Visualization |\n",
    "\n",
    "- **Time to learn**: 45 minutes\n",
    "---"
   ]
  },
  {
   "cell_type": "markdown",
   "id": "44203db4-00ab-4fad-8b61-ead013282b80",
   "metadata": {
    "tags": []
   },
   "source": [
    "## Imports"
   ]
  },
  {
   "cell_type": "code",
   "execution_count": null,
   "id": "77872ced-4f00-4520-8e4e-651c7aa2961b",
   "metadata": {},
   "outputs": [],
   "source": [
    "import pyart\n",
    "import fsspec\n",
    "from metpy.plots import USCOUNTIES\n",
    "import matplotlib.pyplot as plt\n",
    "import cartopy.crs as ccrs\n",
    "import cartopy.feature as cfeature\n",
    "import warnings\n",
    "warnings.filterwarnings(\"ignore\")"
   ]
  },
  {
   "cell_type": "markdown",
   "id": "87af5f44-55e6-4d23-9523-6e49e2563f88",
   "metadata": {},
   "source": [
    "## How to Access NEXRAD Data from Amazon Web Services (AWS)\n",
    "\n",
    "Let’s start first with NEXRAD Level 2 data, which is ground-based radar data collected by the National Oceanic and Atmospheric Administration (NOAA), as a part of the National Weather Service (NWS) observing network."
   ]
  },
  {
   "cell_type": "markdown",
   "id": "cd7a8f06-9580-4320-8e81-f13229f3a67b",
   "metadata": {
    "tags": []
   },
   "source": [
    "### Level 2 Data\n",
    "Level 2 data includes all of the fields in a single file - for example, a file may include:\n",
    "- Reflectivity\n",
    "- Velocity"
   ]
  },
  {
   "cell_type": "markdown",
   "id": "e53147e6-a08a-444b-a7df-9b2a958c4c3b",
   "metadata": {},
   "source": [
    "### Search for Data from the Moore, Oklahoma Tornado (May 20, 2013)\n",
    "\n",
    "Data We will access data from the **`noaa-nexrad-level2 bucket`**, with the data organized as:\n",
    "\n",
    "```\n",
    "s3://noaa-nexrad-level2/year/month/date/radarsite/{radarsite}{year}{month}{date}_{hour}{minute}{second}_V06\n",
    "```\n",
    "\n",
    "We can use [fsspec](https://filesystem-spec.readthedocs.io/en/latest/), a tool to work with filesystems in Python, to search through the bucket to find our files!\n",
    "\n",
    "We start first by setting up our [AWS S3 filesystem](https://aws.amazon.com/s3/)"
   ]
  },
  {
   "cell_type": "code",
   "execution_count": null,
   "id": "79521c33-842a-4eb5-b9f7-e57cf420ea96",
   "metadata": {},
   "outputs": [],
   "source": [
    "fs = fsspec.filesystem(\"s3\", anon=True)"
   ]
  },
  {
   "cell_type": "markdown",
   "id": "11ee73ad-32f0-49db-b896-adccceb8cfea",
   "metadata": {},
   "source": [
    "Once we setup our filesystem, we can list files from May 20, 2013 from the NWS Oklahoma City, Oklahoma (KTLX) site, around 2000 UTC."
   ]
  },
  {
   "cell_type": "code",
   "execution_count": null,
   "id": "25aa5b04-818f-4d45-b175-d8e460ae8e0d",
   "metadata": {},
   "outputs": [],
   "source": [
    "files = sorted(fs.glob(\"s3://noaa-nexrad-level2/2013/05/20/KTLX/KTLX20130520_20*\"))\n",
    "files"
   ]
  },
  {
   "cell_type": "markdown",
   "id": "180a2ed5-7716-4723-92c4-67bf573155d2",
   "metadata": {},
   "source": [
    "We now have a list of files we can read in! "
   ]
  },
  {
   "cell_type": "markdown",
   "id": "e12be782-9ca5-4d23-bc24-8b5fdeb37ef6",
   "metadata": {},
   "source": [
    "## Read the Data into PyART\n",
    "\n",
    "When reading into PyART, we can use the `pyart.io.read_nexrad_archive` or `pyart.io.read` module to read in our data."
   ]
  },
  {
   "cell_type": "code",
   "execution_count": null,
   "id": "7a8b7606-da44-486d-859c-007527f72b5a",
   "metadata": {},
   "outputs": [],
   "source": [
    "radar = pyart.io.read_nexrad_archive(f's3://{files[3]}')"
   ]
  },
  {
   "cell_type": "markdown",
   "id": "676cdf8a-e98c-4a80-9809-5ff384e65f3b",
   "metadata": {},
   "source": [
    "Notice how for the **NEXRAD Level 2** data, we have several fields available"
   ]
  },
  {
   "cell_type": "code",
   "execution_count": null,
   "id": "74207d9d-16c8-4c6e-a41a-3e7b23a86811",
   "metadata": {},
   "outputs": [],
   "source": [
    "list(radar.fields)"
   ]
  },
  {
   "cell_type": "markdown",
   "id": "17a9af05-e326-4f42-97d9-046a10dba6a7",
   "metadata": {},
   "source": [
    "### Plot a quick-look of the dataset\n",
    "Let's get a quicklook of the reflectivity and velocity fields"
   ]
  },
  {
   "cell_type": "code",
   "execution_count": null,
   "id": "2775c3aa-424d-4559-946e-d18eec2ecd5e",
   "metadata": {},
   "outputs": [],
   "source": [
    "display = pyart.graph.RadarMapDisplay(radar)\n",
    "display.plot_ppi_map('reflectivity',\n",
    "                     sweep=3,\n",
    "                     vmin=-20,\n",
    "                     vmax=60,\n",
    "                     projection=ccrs.PlateCarree()\n",
    "                    )"
   ]
  },
  {
   "cell_type": "code",
   "execution_count": null,
   "id": "b3f7f8a9-f464-43cb-9b59-02f5e5013afa",
   "metadata": {},
   "outputs": [],
   "source": [
    "display.plot_ppi_map('velocity',\n",
    "                     sweep=3,\n",
    "                     projection=ccrs.PlateCarree(),\n",
    "                    )"
   ]
  },
  {
   "cell_type": "markdown",
   "id": "b23c4012-7433-493a-8fe2-c5419f6c82d2",
   "metadata": {},
   "source": [
    "## How to customize your plots and maps\n",
    "Let's add some more features to our map, and zoom in on our main storm"
   ]
  },
  {
   "cell_type": "markdown",
   "id": "6bb1d2eb-1017-4ae7-b0de-13c9344e1dc2",
   "metadata": {},
   "source": [
    "### Combine into a single figure\n",
    "Let's start first by combining into a single figure, and zooming in a bit on our main domain."
   ]
  },
  {
   "cell_type": "code",
   "execution_count": null,
   "id": "12cc52e7-7a3c-47bb-b7aa-5ffd99942dc5",
   "metadata": {},
   "outputs": [],
   "source": [
    "# Create our figure\n",
    "fig = plt.figure(figsize=[12, 4])\n",
    "\n",
    "# Setup our first axis with reflectivity\n",
    "ax1 = plt.subplot(121, projection=ccrs.PlateCarree())\n",
    "display = pyart.graph.RadarMapDisplay(radar)\n",
    "display.plot_ppi_map('reflectivity',\n",
    "                     sweep=3,\n",
    "                     vmin=-20,\n",
    "                     vmax=60,\n",
    "                     ax=ax1,)\n",
    "\n",
    "# Zoom in by setting the xlim/ylim\n",
    "plt.xlim(-99, -96)\n",
    "plt.ylim(33.5, 36.5)\n",
    "\n",
    "# Setup our second axis for velocity\n",
    "ax2 = plt.subplot(122, projection=ccrs.PlateCarree())\n",
    "display.plot_ppi_map('velocity',\n",
    "                     sweep=3,\n",
    "                     vmin=-40,\n",
    "                     vmax=40,\n",
    "                     projection=ccrs.PlateCarree(),\n",
    "                     ax=ax2,)\n",
    "\n",
    "# Zoom in by setting the xlim/ylim\n",
    "plt.xlim(-99, -96)\n",
    "plt.ylim(33.5, 36.5)\n",
    "plt.show()"
   ]
  },
  {
   "cell_type": "markdown",
   "id": "0d240e96-faf4-42dc-935f-948ab42e5ffb",
   "metadata": {},
   "source": [
    "### Add Counties\n",
    "We can add counties onto our map by using the `USCOUNTIES` module from `metpy.plots`"
   ]
  },
  {
   "cell_type": "code",
   "execution_count": null,
   "id": "8d0f60b8-933b-4927-b2b5-79cf98efd03b",
   "metadata": {},
   "outputs": [],
   "source": [
    "# Create our figure\n",
    "fig = plt.figure(figsize=[12, 4])\n",
    "\n",
    "# Setup our first axis with reflectivity\n",
    "ax1 = plt.subplot(121, projection=ccrs.PlateCarree())\n",
    "display = pyart.graph.RadarMapDisplay(radar)\n",
    "display.plot_ppi_map('reflectivity',\n",
    "                     sweep=3,\n",
    "                     vmin=-20,\n",
    "                     vmax=60,\n",
    "                     ax=ax1,)\n",
    "\n",
    "# Zoom in by setting the xlim/ylim\n",
    "plt.xlim(-99, -96)\n",
    "plt.ylim(33.5, 36.5)\n",
    "\n",
    "# Add counties\n",
    "ax1.add_feature(USCOUNTIES,\n",
    "                linewidth=0.5)\n",
    "\n",
    "# Setup our second axis for velocity\n",
    "ax2 = plt.subplot(122, projection=ccrs.PlateCarree())\n",
    "display.plot_ppi_map('velocity',\n",
    "                     sweep=3,\n",
    "                     vmin=-40,\n",
    "                     vmax=40,\n",
    "                     projection=ccrs.PlateCarree(),\n",
    "                     ax=ax2,)\n",
    "\n",
    "# Zoom in by setting the xlim/ylim\n",
    "plt.xlim(-99, -96)\n",
    "plt.ylim(33.5, 36.5)\n",
    "\n",
    "# Add counties\n",
    "ax2.add_feature(USCOUNTIES,\n",
    "                linewidth=0.5)\n",
    "\n",
    "plt.show()"
   ]
  },
  {
   "cell_type": "markdown",
   "id": "471e8966-e60b-4eee-b6ea-91c0f6c3a7a4",
   "metadata": {},
   "source": [
    "### Zoom in even more\n",
    "Let's zoom in even more to our main feature - it looks like there is velocity couplet (where high positive and negative values of velcocity are close to one another, indicating rotation), near the center of our map."
   ]
  },
  {
   "cell_type": "code",
   "execution_count": null,
   "id": "fdb6ef72-9a0c-48d3-a686-86453dc92588",
   "metadata": {},
   "outputs": [],
   "source": [
    "# Create our figure\n",
    "fig = plt.figure(figsize=[12, 4])\n",
    "\n",
    "# Setup our first axis with reflectivity\n",
    "ax1 = plt.subplot(121, projection=ccrs.PlateCarree())\n",
    "display = pyart.graph.RadarMapDisplay(radar)\n",
    "display.plot_ppi_map('reflectivity',\n",
    "                     sweep=3,\n",
    "                     vmin=-20,\n",
    "                     vmax=60,\n",
    "                     ax=ax1,)\n",
    "\n",
    "# Zoom in by setting the xlim/ylim\n",
    "plt.xlim(-98, -97)\n",
    "plt.ylim(35, 36)\n",
    "\n",
    "# Add counties\n",
    "ax1.add_feature(USCOUNTIES,\n",
    "                linewidth=0.5)\n",
    "\n",
    "# Setup our second axis for velocity\n",
    "ax2 = plt.subplot(122, projection=ccrs.PlateCarree())\n",
    "display.plot_ppi_map('velocity',\n",
    "                     sweep=3,\n",
    "                     vmin=-40,\n",
    "                     vmax=40,\n",
    "                     projection=ccrs.PlateCarree(),\n",
    "                     ax=ax2,)\n",
    "\n",
    "# Zoom in by setting the xlim/ylim\n",
    "plt.xlim(-98, -97)\n",
    "plt.ylim(35, 36)\n",
    "\n",
    "# Add counties\n",
    "ax2.add_feature(USCOUNTIES,\n",
    "                linewidth=0.5)\n",
    "\n",
    "plt.show()"
   ]
  },
  {
   "cell_type": "markdown",
   "id": "6d6ccd87-84d7-49c3-a336-3b7deaedae7b",
   "metadata": {},
   "source": [
    "### Customize our Labels and Add Finer Grid Labels\n",
    "You'll notice, by default, our colorbar label for the velocity field on the right extends across our entire figure, and the latitude/longitude labels on our axes are now gone. Let's fix that!"
   ]
  },
  {
   "cell_type": "code",
   "execution_count": null,
   "id": "5537544d-8984-426c-9ed2-c13dd75ec623",
   "metadata": {},
   "outputs": [],
   "source": [
    "# Create our figure\n",
    "fig = plt.figure(figsize=[12, 4])\n",
    "\n",
    "# Setup our first axis with reflectivity\n",
    "ax1 = plt.subplot(121, projection=ccrs.PlateCarree())\n",
    "display = pyart.graph.RadarMapDisplay(radar)\n",
    "ref_map = display.plot_ppi_map('reflectivity',\n",
    "                               sweep=3,\n",
    "                               vmin=-20,\n",
    "                               vmax=60,\n",
    "                               ax=ax1,\n",
    "                               colorbar_label='Equivalent Relectivity ($Z_{e}$) (dBZ)')\n",
    "\n",
    "\n",
    "# Zoom in by setting the xlim/ylim\n",
    "plt.xlim(-97.7, -97.1)\n",
    "plt.ylim(35.2, 35.8)\n",
    "\n",
    "# Add gridlines\n",
    "gl = ax1.gridlines(crs=ccrs.PlateCarree(),\n",
    "                  draw_labels=True,\n",
    "                  linewidth=1, \n",
    "                  color='gray', \n",
    "                  alpha=0.3,\n",
    "                  linestyle='--')\n",
    "\n",
    "# Make sure labels are only plotted on the left and bottom\n",
    "gl.xlabels_top = False\n",
    "gl.ylabels_right = False\n",
    "\n",
    "# Increase the fontsize of our gridline labels\n",
    "gl.xlabel_style = {'fontsize':10}\n",
    "gl.ylabel_style = {'fontsize':10}\n",
    "\n",
    "# Add counties\n",
    "ax1.add_feature(USCOUNTIES,\n",
    "                linewidth=0.5)\n",
    "\n",
    "# Setup our second axis for velocity\n",
    "ax2 = plt.subplot(122, projection=ccrs.PlateCarree())\n",
    "vel_plot = display.plot_ppi_map('velocity',\n",
    "                                sweep=3,\n",
    "                                vmin=-40,\n",
    "                                vmax=40,\n",
    "                                projection=ccrs.PlateCarree(),\n",
    "                                ax=ax2,\n",
    "                                colorbar_label='Radial Velocity (m/s)')\n",
    "\n",
    "# Zoom in by setting the xlim/ylim\n",
    "plt.xlim(-97.7, -97.1)\n",
    "plt.ylim(35.2, 35.8)\n",
    "\n",
    "# Add gridlines\n",
    "gl = ax2.gridlines(crs=ccrs.PlateCarree(),\n",
    "                   draw_labels=True,\n",
    "                   linewidth=1, \n",
    "                   color='gray', \n",
    "                   alpha=0.3,\n",
    "                   linestyle='--')\n",
    "\n",
    "# Make sure labels are only plotted on the left and bottom\n",
    "gl.xlabels_top = False\n",
    "gl.ylabels_right = False\n",
    "\n",
    "# Increase the fontsize of our gridline labels\n",
    "gl.xlabel_style = {'fontsize':10}\n",
    "gl.ylabel_style = {'fontsize':10}\n",
    "\n",
    "# Add counties\n",
    "ax2.add_feature(USCOUNTIES,\n",
    "                linewidth=0.5)\n",
    "plt.show()"
   ]
  },
  {
   "cell_type": "markdown",
   "id": "c268e3ac-6532-4d2f-b620-c79d08364cdb",
   "metadata": {},
   "source": [
    "---\n",
    "## Summary\n",
    "Within this example, we walked through how to use MetPy and PyART to read in NEXRAD Level 2 data from the Moore Oklahoma tornado in 2013, create some quick looks, and customize the plots to analyze the tornadic supercell closest to the radar.\n",
    "\n",
    "### What's next?\n",
    "Other examples will look at additional data sources and radar types, including data from the Department of Energy (DOE) Atmospheric Radiation Measurement (ARM) Facility, and work through more advanced workflows such as completing a dual-Doppler analysis."
   ]
  },
  {
   "cell_type": "markdown",
   "id": "c068821a-6693-40d8-8878-e5dcb8c71ebd",
   "metadata": {},
   "source": [
    "## Resources and References\n",
    "* [NEXRAD Data on AWS](https://registry.opendata.aws/noaa-nexrad/)\n",
    "* [Py-ART NEXRAD Data Example](https://arm-doe.github.io/pyart/examples/io/plot_nexrad_data_aws.html#sphx-glr-examples-io-plot-nexrad-data-aws-py)"
   ]
  }
 ],
 "metadata": {
  "kernelspec": {
   "display_name": "Python 3 (ipykernel)",
   "language": "python",
   "name": "python3"
  },
  "language_info": {
   "codemirror_mode": {
    "name": "ipython",
    "version": 3
   },
   "file_extension": ".py",
   "mimetype": "text/x-python",
   "name": "python",
   "nbconvert_exporter": "python",
   "pygments_lexer": "ipython3",
   "version": "3.9.16"
  }
 },
 "nbformat": 4,
 "nbformat_minor": 5
}
