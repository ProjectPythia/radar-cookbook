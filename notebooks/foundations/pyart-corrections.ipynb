{
 "cells": [
  {
   "cell_type": "markdown",
   "metadata": {},
   "source": [
    "<img src=\"../images/logos/arm_logo.png\" width=500 alt=\"ARM Logo\"></img>"
   ]
  },
  {
   "cell_type": "markdown",
   "metadata": {},
   "source": [
    "# Py-ART Corrections\n",
    "---"
   ]
  },
  {
   "cell_type": "markdown",
   "metadata": {
    "tags": []
   },
   "source": [
    "## Overview\n",
    "   \n",
    "Within this notebook, we will cover:\n",
    "\n",
    "1. Intro to radar aliasing.\n",
    "1. Calculation of velocity texture using Py-ART\n",
    "1. Dealiasing the velocity field\n",
    "\n",
    "## Prerequisites\n",
    "| Concepts | Importance | Notes |\n",
    "| --- | --- | --- |\n",
    "| [Py-ART Basics](pyart-basics) | Helpful | Basic features |\n",
    "| [Matplotlib Basics](https://foundations.projectpythia.org/core/matplotlib/matplotlib-basics.html) | Helpful | Basic plotting |\n",
    "| [NumPy Basics](https://foundations.projectpythia.org/core/numpy/numpy-basics.html) | Helpful | Basic arrays |\n",
    "\n",
    "- **Time to learn**: 30 minutes\n",
    "---"
   ]
  },
  {
   "cell_type": "markdown",
   "metadata": {},
   "source": [
    "## Imports"
   ]
  },
  {
   "cell_type": "code",
   "execution_count": null,
   "metadata": {},
   "outputs": [],
   "source": [
    "import os\n",
    "import warnings\n",
    "\n",
    "import cartopy.crs as ccrs\n",
    "import matplotlib.pyplot as plt\n",
    "import numpy as np\n",
    "\n",
    "\n",
    "import pyart\n",
    "from pyart.testing import get_test_data\n",
    "\n",
    "warnings.filterwarnings('ignore')"
   ]
  },
  {
   "cell_type": "markdown",
   "metadata": {},
   "source": [
    "## Read in the Data and Plot the Data"
   ]
  },
  {
   "cell_type": "markdown",
   "metadata": {},
   "source": [
    "### Read in a sample file from the Southern Great Plains (SGP) Site\n",
    "Our data is formatted as an *`mdv`* file, which is the abbreviation for Meteorological Data Volume, a data format developed by the National Center for Atmospheric Research in the early 1990s."
   ]
  },
  {
   "cell_type": "code",
   "execution_count": null,
   "metadata": {},
   "outputs": [],
   "source": [
    "file = get_test_data('110635.mdv')\n",
    "radar = pyart.io.read(file)"
   ]
  },
  {
   "cell_type": "markdown",
   "metadata": {},
   "source": [
    "### Plot a quick-look of reflectivity and velocity\n",
    "We can start by taking a quick look at the reflectivity and velocity fields. Notice how the velocity field is **rather messy**, indicated by the speckles and high/low values directly next to each other"
   ]
  },
  {
   "cell_type": "code",
   "execution_count": null,
   "metadata": {},
   "outputs": [],
   "source": [
    "fig = plt.figure(figsize=[8, 10])\n",
    "ax = plt.subplot(211, projection=ccrs.PlateCarree())\n",
    "display = pyart.graph.RadarMapDisplay(radar)\n",
    "display.plot_ppi_map('reflectivity',\n",
    "                     ax=ax,\n",
    "                     sweep=0,\n",
    "                     resolution='50m',\n",
    "                     vmin=0,\n",
    "                     vmax=60, \n",
    "                     projection=ccrs.PlateCarree(),\n",
    "                     cmap='pyart_HomeyerRainbow')\n",
    "\n",
    "ax2 = plt.subplot(2,1,2,projection=ccrs.PlateCarree())\n",
    "display = pyart.graph.RadarMapDisplay(radar)\n",
    "display.plot_ppi_map('velocity',\n",
    "                     ax=ax2,\n",
    "                     sweep=0,\n",
    "                     resolution='50m',\n",
    "                     vmin=-17,\n",
    "                     vmax=17, \n",
    "                     projection=ccrs.PlateCarree(),\n",
    "                     cmap='pyart_balance')\n",
    "plt.show()"
   ]
  },
  {
   "cell_type": "markdown",
   "metadata": {},
   "source": [
    "## Dealiasing our Velocity\n",
    "\n",
    "### An Overview of Aliasing"
   ]
  },
  {
   "cell_type": "markdown",
   "metadata": {},
   "source": [
    "The radial velocity measured by the radar is mesasured by detecing the phase shift between the transmitted pulse and the pulse recieved by the radar. However, using this methodology, it is only possible to detect phase shifts within $\\pm 2\\pi$ due to the periodicity of the transmitted wave. Therefore, for example, a phase shift of $3\\pi$ would erroneously be detected as a phase shift of $-\\pi$ and give an incorrect value of velocity when retrieved by the radar. This phenomena is called aliasing. The maximium unambious velocity that can be detected by the radar before aliasing occurs is called the Nyquist velocity.\n",
    "\n",
    "In the next example, you will see an example of aliasing occurring, where the values of +15 m/s abruptly transition into a region of -15 m/s, with -5 m/s in the middle of the region around 37 N, 97 W."
   ]
  },
  {
   "cell_type": "markdown",
   "metadata": {},
   "source": [
    "### Calculate Velocity Texture\n",
    "\n",
    "First, for dealiasing to work efficiently, we need to use a GateFilter. Notice that, this time, the data shown does not give us a nice gate_id. This is what raw data looks like, and we need to do some preprocessing on the data to remove noise and clutter. Thankfully, Py-ART gives us the capability to do this. As a simple filter in this example, we will first calculate the velocity texture using Py-ART's [`calculate_velocity_texture`](https://arm-doe.github.io/pyart/API/generated/pyart.retrieve.calculate_velocity_texture.html) function. The velocity texture is the standard deviation of velocity surrounding a gate. This will be higher in the presence of noise.\n",
    "\n",
    "Let's investigate this function first..."
   ]
  },
  {
   "cell_type": "code",
   "execution_count": null,
   "metadata": {},
   "outputs": [],
   "source": [
    "pyart.retrieve.calculate_velocity_texture?"
   ]
  },
  {
   "cell_type": "markdown",
   "metadata": {},
   "source": [
    "### Determining the Right Parameters\n",
    "You'll notice that we need:\n",
    "- Our radar object\n",
    "- The name of our velocity field\n",
    "- The number of gates within our window to use to calculate the texture\n",
    "- The nyquist velocity\n",
    "\n",
    "We can retrieve the nyquest velocity from our instrument parameters fortunately - using the following syntax!"
   ]
  },
  {
   "cell_type": "code",
   "execution_count": null,
   "metadata": {},
   "outputs": [],
   "source": [
    "nyquist_velocity = radar.instrument_parameters[\"nyquist_velocity\"][\"data\"]\n",
    "nyquist_velocity"
   ]
  },
  {
   "cell_type": "markdown",
   "metadata": {},
   "source": [
    "While the nyquist velocity is stored as an array, we see that these are all the same value..."
   ]
  },
  {
   "cell_type": "code",
   "execution_count": null,
   "metadata": {},
   "outputs": [],
   "source": [
    "np.unique(nyquist_velocity)"
   ]
  },
  {
   "cell_type": "markdown",
   "metadata": {},
   "source": [
    "Let's save this single value to a float to use later..."
   ]
  },
  {
   "cell_type": "code",
   "execution_count": null,
   "metadata": {},
   "outputs": [],
   "source": [
    "nyquist_value = np.unique(nyquist_velocity)[0]"
   ]
  },
  {
   "cell_type": "markdown",
   "metadata": {},
   "source": [
    "### Calculate Velocity Texture and Filter our Data\n",
    "Now that we have an ide?a of which parameters to pass in, let's calculate velocity texture!"
   ]
  },
  {
   "cell_type": "code",
   "execution_count": null,
   "metadata": {},
   "outputs": [],
   "source": [
    "vel_texture = pyart.retrieve.calculate_velocity_texture(radar,\n",
    "                                                        vel_field='velocity',\n",
    "                                                        nyq=nyquist_value)\n",
    "vel_texture"
   ]
  },
  {
   "cell_type": "markdown",
   "metadata": {},
   "source": [
    "The `pyart.retrieve.calculate_velocity_texture` function results in a data dictionary, including the actual data, as well as metadata. We can add this to our `radar` object, by using the `radar.add_field` method, passing the name of our new field (`\"texture\"`), the data dictionary (`vel_texture`), and a clarification that we want to replace the existing velocity texture field if it already exists in our radar object (`replace_existing=True`)"
   ]
  },
  {
   "cell_type": "code",
   "execution_count": null,
   "metadata": {},
   "outputs": [],
   "source": [
    "radar.add_field('texture', vel_texture, replace_existing=True)"
   ]
  },
  {
   "cell_type": "markdown",
   "metadata": {},
   "source": [
    "#### Plot our Velocity Texture Field"
   ]
  },
  {
   "cell_type": "markdown",
   "metadata": {},
   "source": [
    "Now that we have our velocity texture field added to our radar object, let's plot it!"
   ]
  },
  {
   "cell_type": "code",
   "execution_count": null,
   "metadata": {},
   "outputs": [],
   "source": [
    "fig = plt.figure(figsize=[8, 8])\n",
    "display = pyart.graph.RadarMapDisplay(radar)\n",
    "display.plot_ppi_map('texture',\n",
    "                     sweep=0,\n",
    "                     resolution='50m',\n",
    "                     vmin=0,\n",
    "                     vmax=10, \n",
    "                     projection=ccrs.PlateCarree(),\n",
    "                     cmap='pyart_balance')\n",
    "plt.show()"
   ]
  },
  {
   "cell_type": "markdown",
   "metadata": {},
   "source": [
    "#### Determine a Suitable Velocity Texture Threshold"
   ]
  },
  {
   "cell_type": "markdown",
   "metadata": {},
   "source": [
    "Plot a histogram of velocity texture to get a better idea of what values correspond to hydrometeors and what values of texture correspond to artifacts.\n",
    "\n",
    "In the below example, a threshold of 3 would eliminate most of the peak corresponding to noise around 6 while preserving most of the values in the peak of ~0.5 corresponding to hydrometeors."
   ]
  },
  {
   "cell_type": "code",
   "execution_count": null,
   "metadata": {},
   "outputs": [],
   "source": [
    "hist, bins = np.histogram(radar.fields['texture']['data'],\n",
    "                          bins=150)\n",
    "bins = (bins[1:]+bins[:-1])/2.0\n",
    "\n",
    "plt.plot(bins,\n",
    "         hist,\n",
    "         label='Velocity Texture Frequency')\n",
    "plt.axvline(3,\n",
    "            color='r',\n",
    "            label='Proposed Velocity Texture Threshold')\n",
    "\n",
    "plt.xlabel('Velocity texture')\n",
    "plt.ylabel('Count')\n",
    "plt.legend()"
   ]
  },
  {
   "cell_type": "markdown",
   "metadata": {},
   "source": [
    "#### Setup a Gatefilter Object and Apply our Threshold"
   ]
  },
  {
   "cell_type": "markdown",
   "metadata": {},
   "source": [
    "Now we can set up our GateFilter ([`pyart.filters.GateFilter`](https://arm-doe.github.io/pyart/API/generated/pyart.filters.GateFilter.html#pyart.filters.GateFilter)), which allows us to easily apply masks and filters to our radar object."
   ]
  },
  {
   "cell_type": "code",
   "execution_count": null,
   "metadata": {},
   "outputs": [],
   "source": [
    "gatefilter = pyart.filters.GateFilter(radar)\n",
    "gatefilter"
   ]
  },
  {
   "cell_type": "markdown",
   "metadata": {},
   "source": [
    "We discovered that a velocity texture threshold of **only including values below 3** would be suitable for this dataset, we use the `.exclude_above` method, specifying we want to exclude `texture` values above 3."
   ]
  },
  {
   "cell_type": "code",
   "execution_count": null,
   "metadata": {},
   "outputs": [],
   "source": [
    "gatefilter.exclude_above('texture', 3)"
   ]
  },
  {
   "cell_type": "markdown",
   "metadata": {},
   "source": [
    "#### Plot our Filtered Data"
   ]
  },
  {
   "cell_type": "markdown",
   "metadata": {},
   "source": [
    "Now that we have created a gatefilter, filtering our data using the velocity texture, let's plot our data!\n",
    "\n",
    "We need to pass our gatefilter to the `plot_ppi_map` to apply it to our plot."
   ]
  },
  {
   "cell_type": "code",
   "execution_count": null,
   "metadata": {},
   "outputs": [],
   "source": [
    "# Plot our Unfiltered Data\n",
    "fig = plt.figure(figsize=[8, 10])\n",
    "ax = plt.subplot(211, projection=ccrs.PlateCarree())\n",
    "display = pyart.graph.RadarMapDisplay(radar)\n",
    "display.plot_ppi_map('velocity',\n",
    "                     title='Raw Radial Velocity (no filter)',\n",
    "                     ax=ax,\n",
    "                     sweep=0,\n",
    "                     resolution='50m',\n",
    "                     vmin=-17,\n",
    "                     vmax=17,\n",
    "                     projection=ccrs.PlateCarree(),\n",
    "                     colorbar_label='Radial Velocity (m/s)',\n",
    "                     cmap='pyart_balance')\n",
    "\n",
    "ax2 = plt.subplot(2,1,2,projection=ccrs.PlateCarree())\n",
    "\n",
    "# Plot our filtered data\n",
    "display = pyart.graph.RadarMapDisplay(radar)\n",
    "display.plot_ppi_map('velocity',\n",
    "                     title='Radial Velocity with Velocity Texture Filter',\n",
    "                     ax=ax2,\n",
    "                     sweep=0,\n",
    "                     resolution='50m',\n",
    "                     vmin=-17,\n",
    "                     vmax=17, \n",
    "                     projection=ccrs.PlateCarree(),\n",
    "                     colorbar_label='Radial Velocity (m/s)',\n",
    "                     gatefilter=gatefilter,\n",
    "                     cmap='pyart_balance')\n",
    "plt.show()"
   ]
  },
  {
   "cell_type": "markdown",
   "metadata": {},
   "source": [
    "### Dealias the Velocity Using the Region-Based Method"
   ]
  },
  {
   "cell_type": "markdown",
   "metadata": {},
   "source": [
    "At this point, we can use the [`dealias_region_based`](https://arm-doe.github.io/pyart/API/generated/pyart.correct.dealias_region_based.html) to dealias the velocities and then add the new field to the radar!"
   ]
  },
  {
   "cell_type": "code",
   "execution_count": null,
   "metadata": {},
   "outputs": [],
   "source": [
    "velocity_dealiased = pyart.correct.dealias_region_based(radar,\n",
    "                                                        vel_field='velocity',\n",
    "                                                        nyquist_vel=nyquist_value,\n",
    "                                                        centered=True,\n",
    "                                                        gatefilter=gatefilter)\n",
    "\n",
    "# Add our data dictionary to the radar object\n",
    "radar.add_field('corrected_velocity', velocity_dealiased, replace_existing=True)"
   ]
  },
  {
   "cell_type": "markdown",
   "metadata": {},
   "source": [
    "#### Plot our Cleaned, Dealiased Velocities"
   ]
  },
  {
   "cell_type": "markdown",
   "metadata": {},
   "source": [
    "Plot the new velocities, which now look much more realistic."
   ]
  },
  {
   "cell_type": "code",
   "execution_count": null,
   "metadata": {},
   "outputs": [],
   "source": [
    "fig = plt.figure(figsize=[8, 8])\n",
    "display = pyart.graph.RadarMapDisplay(radar)\n",
    "display.plot_ppi_map('corrected_velocity',\n",
    "                     sweep=0,\n",
    "                     resolution='50m',\n",
    "                     vmin=-30,\n",
    "                     vmax=30, \n",
    "                     projection=ccrs.PlateCarree(),\n",
    "                     colorbar_label='Radial Velocity (m/s)',\n",
    "                     cmap='pyart_balance',\n",
    "                     gatefilter=gatefilter)\n",
    "plt.show()"
   ]
  },
  {
   "cell_type": "markdown",
   "metadata": {},
   "source": [
    "## Compare our Raw Velocity Field to our Dealiased, Cleaned Velocity Field\n",
    "As a last comparison, let's compare our raw, uncorrected velocities with our cleaned velocities, after applying the velocity texture threshold and dealiasing algorithm"
   ]
  },
  {
   "cell_type": "code",
   "execution_count": null,
   "metadata": {},
   "outputs": [],
   "source": [
    "# Plot our Unfiltered Data\n",
    "fig = plt.figure(figsize=[8, 10])\n",
    "ax = plt.subplot(211, projection=ccrs.PlateCarree())\n",
    "display = pyart.graph.RadarMapDisplay(radar)\n",
    "display.plot_ppi_map('velocity',\n",
    "                     title='Raw Radial Velocity (no filter)',\n",
    "                     ax=ax,\n",
    "                     sweep=0,\n",
    "                     resolution='50m',\n",
    "                     vmin=-30,\n",
    "                     vmax=30,\n",
    "                     projection=ccrs.PlateCarree(),\n",
    "                     colorbar_label='Radial Velocity (m/s)',\n",
    "                     cmap='pyart_balance')\n",
    "\n",
    "ax2 = plt.subplot(2,1,2,projection=ccrs.PlateCarree())\n",
    "\n",
    "# Plot our filtered, dealiased data\n",
    "display = pyart.graph.RadarMapDisplay(radar)\n",
    "display.plot_ppi_map('corrected_velocity',\n",
    "                     title='Radial Velocity with Velocity Texture Filter and Dealiasing',\n",
    "                     ax=ax2,\n",
    "                     sweep=0,\n",
    "                     resolution='50m',\n",
    "                     vmin=-30,\n",
    "                     vmax=30, \n",
    "                     projection=ccrs.PlateCarree(),\n",
    "                     gatefilter=gatefilter,\n",
    "                     colorbar_label='Radial Velocity (m/s)',\n",
    "                     cmap='pyart_balance')\n",
    "plt.show()"
   ]
  },
  {
   "cell_type": "markdown",
   "metadata": {},
   "source": [
    "## Conclusions\n",
    "Within this lesson, we walked through how to apply radial velocity corrections to a dataset, filtering based on the velocity texture and using a regional dealiasing algorithm.\n",
    "\n",
    "### What's Next\n",
    "In the next few notebooks, we walk through gridding radar data and advanced visualization methods!"
   ]
  },
  {
   "cell_type": "markdown",
   "metadata": {},
   "source": [
    "## Resources and References\n",
    "Py-ART essentials links:\n",
    "\n",
    "* [Landing page](arm-doe.github.io/pyart/)\n",
    "* [Examples](https://arm-doe.github.io/pyart/examples/index.html)\n",
    "* [Source Code](github.com/ARM-DOE/pyart)\n",
    "* [Mailing list](groups.google.com/group/pyart-users/)\n",
    "* [Issue Tracker](github.com/ARM-DOE/pyart/issues)"
   ]
  },
  {
   "cell_type": "code",
   "execution_count": null,
   "metadata": {},
   "outputs": [],
   "source": []
  }
 ],
 "metadata": {
  "kernelspec": {
   "display_name": "Python 3 (ipykernel)",
   "language": "python",
   "name": "python3"
  },
  "language_info": {
   "codemirror_mode": {
    "name": "ipython",
    "version": 3
   },
   "file_extension": ".py",
   "mimetype": "text/x-python",
   "name": "python",
   "nbconvert_exporter": "python",
   "pygments_lexer": "ipython3",
   "version": "3.9.16"
  }
 },
 "nbformat": 4,
 "nbformat_minor": 4
}
