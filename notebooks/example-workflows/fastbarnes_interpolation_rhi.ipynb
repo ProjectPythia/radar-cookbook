{
 "cells": [
  {
   "cell_type": "markdown",
   "metadata": {},
   "source": [
    "# 2D objective analysis of weather radar RHI scan: Fast Barnes Interpolation Example\n",
    "\n",
    "This example uses the Fast Barnes interpolation methods as presented in [Zürcher (2023)](https://doi.org/10.5194/gmd-16-1697-2023) available at [fast-barnes-py](https://github.com/MeteoSwiss/fast-barnes-py.git).\n",
    "\n",
    "The notebook applies the fast Barnes interpolation methods to RHI scan data from the ARM-CSAPR2 radar data from the [TRACER] (https://www.arm.gov/research/campaigns/amf2021tracer) field campaign."
   ]
  },
  {
   "cell_type": "markdown",
   "metadata": {},
   "source": [
    "---"
   ]
  },
  {
   "cell_type": "markdown",
   "metadata": {},
   "source": [
    "## Overview\n",
    "\n",
    "This notebook shows how to download the ARM-CSAPR2 RHI data from ARM data repository and grid radar variables on a two-dimensional Cartesian grid using Python."
   ]
  },
  {
   "cell_type": "markdown",
   "metadata": {},
   "source": [
    "## Prerequisites\n",
    "\n",
    "| Concepts | Importance | Notes |\n",
    "| --- | --- | --- |\n",
    "| [Intro to Xarray](https://foundations.projectpythia.org/core/xarray/xarray-intro.html) | Necessary | |\n",
    "| [Matplotlib Basics](https://foundations.projectpythia.org/core/matplotlib/matplotlib-basics.html) | Required | Basic plotting |\n",
    "| [Py-ART Basics](../foundations/pyart-basics) | Required | IO/Visualization |\n",
    "| [Understanding of NetCDF](https://foundations.projectpythia.org/core/data-formats/netcdf-cf.html) | Helpful | Familiarity with metadata structure |\n",
    "\n",
    "- **Time to learn**: 10 minutes"
   ]
  },
  {
   "cell_type": "markdown",
   "metadata": {},
   "source": [
    "---"
   ]
  },
  {
   "cell_type": "markdown",
   "metadata": {},
   "source": [
    "## Imports"
   ]
  },
  {
   "cell_type": "code",
   "execution_count": null,
   "metadata": {
    "tags": []
   },
   "outputs": [],
   "source": [
    "import pyart\n",
    "import act\n",
    "import glob\n",
    "import os\n",
    "import numpy as np\n",
    "import xarray as xr\n",
    "import matplotlib.pyplot as plt\n",
    "from pathlib import Path\n",
    "from copy import deepcopy\n",
    "from fastbarnes.interpolation import barnes\n",
    "from datetime import timedelta"
   ]
  },
  {
   "cell_type": "markdown",
   "metadata": {},
   "source": [
    "## Setup our Download Query\n",
    "Before downloading our data, we need to make sure we have an ARM Data Account, and ARM Live token. Both of these can be found using this link:\n",
    "- [ARM Live Signup](https://adc.arm.gov/armlive/livedata/home)\n",
    "\n",
    "Once you sign up, you will see your token. Copy and replace that where we have `arm_username` and `arm_password` below."
   ]
  },
  {
   "cell_type": "code",
   "execution_count": null,
   "metadata": {
    "tags": []
   },
   "outputs": [],
   "source": [
    "arm_username = os.getenv(\"ARM_USERNAME\")\n",
    "arm_password = os.getenv(\"ARM_PASSWORD\")\n",
    "\n",
    "datastream = \"houcsapr2cfrS2.a1\"\n",
    "\n",
    "start_date = \"2022-08-07T18:39:04\"\n",
    "end_date = \"2022-08-07T18:39:05\""
   ]
  },
  {
   "cell_type": "markdown",
   "metadata": {},
   "source": [
    "## Grab Data\n",
    "We use the ARM Live API, accessible through ACT!\n",
    "* [Download Data API](https://arm-doe.github.io/ACT/API/generated/act.discovery.download_data.html#act.discovery.download_data)\n",
    "\n",
    "We are interested in the C-band radar, which is utilizing a cell-tracking algorithm, with the datastream\n",
    "- `houcsapr2cfrS2.a1`\n",
    "\n",
    "One of the better cases was from June 2, 2022.\n",
    "\n",
    "This line will download data into the a new directory with the datastream name (`/houcsapr2cfrS2.a1`)"
   ]
  },
  {
   "cell_type": "code",
   "execution_count": null,
   "metadata": {
    "tags": []
   },
   "outputs": [],
   "source": [
    "aug7_csapr_files = act.discovery.download_data(arm_username,\n",
    "                                               arm_password,\n",
    "                                               datastream,\n",
    "                                               start_date,\n",
    "                                               end_date)"
   ]
  },
  {
   "cell_type": "markdown",
   "metadata": {},
   "source": [
    "## Read in and Plot the Data\n",
    "Before following running the next cells, make sure you have created the following directories:\n",
    "- `quicklooks`"
   ]
  },
  {
   "cell_type": "code",
   "execution_count": null,
   "metadata": {
    "tags": []
   },
   "outputs": [],
   "source": [
    "!mkdir quicklooks"
   ]
  },
  {
   "cell_type": "code",
   "execution_count": null,
   "metadata": {
    "tags": []
   },
   "outputs": [],
   "source": [
    "radar_file = \"houcsapr2cfrS2.a1/houcsapr2cfrS2.a1.20220807.183904.nc\""
   ]
  },
  {
   "cell_type": "markdown",
   "metadata": {},
   "source": [
    "## Plot one of the RHI scans\n",
    "We read in the data corresponding to 7 August 2022 18:39:04 UTC, and plot a basic `RadarDisplay` which will automatically detect whether the plot is a vertical cross section (RHI or VPT), or a horizontal scan (PPI)"
   ]
  },
  {
   "cell_type": "code",
   "execution_count": null,
   "metadata": {
    "tags": []
   },
   "outputs": [],
   "source": [
    "radar = pyart.io.read(radar_file)\n",
    "display = pyart.graph.RadarDisplay(radar)\n",
    "display.plot(\"reflectivity\", 0)\n",
    "plt.savefig(f\"quicklooks/{Path(radar_file).stem}.png\", dpi=200)\n",
    "plt.xlim(0,45)\n",
    "plt.ylim(0,12)\n",
    "plt.show()\n",
    "plt.close() "
   ]
  },
  {
   "cell_type": "markdown",
   "metadata": {},
   "source": [
    "## Define a function to grid the RHI data from polar (antenna) coordinates to a two-dimensional Caretsian grid\n",
    "We use numba to vectorize the `dist_func` function to calculate the distance of each range gate from the radar. This makes our code run faster than simply executing this function for each gate in a for loop.\n",
    "\n",
    "Next, we use the `barnes` function from the fastbarnes Python package to interpolate the radar fields such as `equivalent reflectivity factor` ($Z_{H}$), `differential_reflectivity` ($Z_{DR}$), and `specific_differential_phase` ($K_{DP}$) to a uniform range-height Cartesian grid."
   ]
  },
  {
   "cell_type": "code",
   "execution_count": null,
   "metadata": {
    "tags": []
   },
   "outputs": [],
   "source": [
    "def grid_rhi(file,z_res = 100,rng_res = 100,z_limits = (0,15000),rng_limits = (0,109900.0),fields=None):\n",
    "    \n",
    "    \"\"\"\n",
    "    Input:\n",
    "    -------\n",
    "    file (str): Path of the RHI scan file that needs to be gridded.\n",
    "    z_res (float): Vertical grid spacing of the Cartesian grid.\n",
    "    rng_res (float): Horizontal grid spacing of the Cartesian grid.\n",
    "    z_limits (tuple): Lower and upper height limits within which radar data needs to be gridded. \n",
    "    rng_limits (tuple): Lower and upper range limits within which radar data needs to be gridded. \n",
    "    \n",
    "    Output:\n",
    "    -------\n",
    "    grid_ds (xarray Dataset): Xarray dataset containing radar fields on the Cartesian grid\n",
    "    \"\"\"\n",
    "    \n",
    "    z_pts = np.arange(z_limits[0],z_limits[1]+z_res,z_res)\n",
    "    rng_pts = np.arange(rng_limits[0],rng_limits[1]+rng_res,rng_res)\n",
    "   \n",
    "    \n",
    "    rhi = xr.open_dataset(file)\n",
    "    radar = pyart.io.read(file)\n",
    "    rhi = rhi.swap_dims({'time':'elevation'})\n",
    "\n",
    "    lat = float(radar.latitude[\"data\"])\n",
    "    lon = float(radar.longitude[\"data\"])\n",
    "\n",
    "    grid_origin = (lat, lon)\n",
    "    grid_origin_lat, grid_origin_lon = grid_origin\n",
    "\n",
    "    grid_projection = {\"proj\": \"pyart_aeqd\", \"_include_lon_0_lat_0\": True}\n",
    "    projparams = grid_projection.copy()\n",
    "\n",
    "    if projparams.pop(\"_include_lon_0_lat_0\", False):\n",
    "        projparams[\"lon_0\"] = grid_origin_lon\n",
    "        projparams[\"lat_0\"] = grid_origin_lat\n",
    "\n",
    "    rg_loc = np.tile(radar.range['data'],len(radar.elevation['data'])).reshape(len(radar.elevation['data']),len(radar.range['data']))\n",
    "\n",
    "    zg_loc = radar.gate_altitude[\"data\"] - 12 # CSAPR2 antenna altitude = 12 m in this example\n",
    "\n",
    "     \n",
    "    # one of [ 'naive', 'radius', 'convolution', 'optimized_convolution' ]\n",
    "    method = \"optimized_convolution\"\n",
    "\n",
    "    # one of [ 0.25, 0.5, 1.0, 2.0, 4.0 ]\n",
    "    sigma = 1.0\n",
    "\n",
    "    # applies only to 'convolution' interpolations: one of [ 1, 2, 3, 4, 5, 6, 7, 8, 9, 10, 20, 50 ]\n",
    "    num_iter = 4\n",
    "    \n",
    "    if fields is None:\n",
    "        fields = ['reflectivity','differential_reflectivity','specific_differential_phase',\n",
    "                  'copol_correlation_coeff','mean_doppler_velocity','spectral_width']\n",
    "        \n",
    "    res_field = np.empty((len(z_pts),len(rng_pts),len(fields)))\n",
    "\n",
    "    for j in range(len(fields)):\n",
    "\n",
    "        data = deepcopy(np.array(radar.fields[fields[j]]['data']))\n",
    "        # data = data.filled(np.nan)\n",
    "\n",
    "        res_field[:,:,j] = barnes(np.asarray([rg_loc.ravel(),radar.gate_altitude['data'].ravel()]).transpose(),\n",
    "                           data.ravel(),\n",
    "                           100,\n",
    "                           np.asarray([0,0]),\n",
    "                           100,\n",
    "                           (len(z_pts),len(rng_pts)),\n",
    "                           method=method,\n",
    "                           num_iter = num_iter,\n",
    "                           min_weight=0.0002\n",
    "                          )\n",
    "    \n",
    "\n",
    "    data_dict = {}\n",
    "    for k in range(len(fields)):\n",
    "        data_dict[fields[k]] = ([\"z\",\"range\"],res_field[:,:,k])\n",
    "\n",
    "    grid_ds = xr.Dataset(data_vars=data_dict,\n",
    "                         coords=dict(z=([\"z\"], z_pts),\n",
    "                                     range=([\"range\"],rng_pts),\n",
    "                                    ),\n",
    "                         attrs=dict(description=\"Gridded RHI data.\"),\n",
    "                        )\n",
    "        \n",
    "    return grid_ds"
   ]
  },
  {
   "cell_type": "markdown",
   "metadata": {},
   "source": [
    "### Apply the gridding function to your radar RHI data file\n",
    "\n",
    "Now, we are ready to grid the RHI data. The `grid_rhi` function requires the user to specify the vertical and horizontal grid spacing (`z_res` and `rng_res`, respectively), as well as the lower and upper limits of the Cartesian grid in the vertical and horizontal dimensions (`z_limits` and `rng_limits`, respectively). Custom fields of interest can be specified through the `fields` parameter. Otherwise, the function grids five radar fields by default i.e., ($Z_{H}$, $Z_{DR}$, $\\rho_{hv}$, $K_{DP}$, and $\\sigma$)."
   ]
  },
  {
   "cell_type": "code",
   "execution_count": null,
   "metadata": {
    "tags": []
   },
   "outputs": [],
   "source": [
    "grid_ds = grid_rhi(radar_file)"
   ]
  },
  {
   "cell_type": "markdown",
   "metadata": {},
   "source": [
    "## Grid and plot the RHI data\n"
   ]
  },
  {
   "cell_type": "code",
   "execution_count": null,
   "metadata": {
    "tags": []
   },
   "outputs": [],
   "source": [
    "# Finally, plot the gridded reflectivity\n",
    "fig,ax = plt.subplots()\n",
    "grid_ds['reflectivity'].plot(vmin=0,vmax=70,cmap='pyart_HomeyerRainbow',ax=ax)\n",
    "ax.set_xlim(0,55000)\n",
    "ax.set_ylim(0,10000)\n",
    "plt.show()"
   ]
  },
  {
   "cell_type": "markdown",
   "metadata": {},
   "source": [
    "---"
   ]
  },
  {
   "cell_type": "markdown",
   "metadata": {},
   "source": [
    "## Summary\n",
    "Within this example, we walked through how to access ARM data from a field campaign in Texas, plot a quick look of the RHI scan data, and grid our RHI data from native (polar) coordinates to a uniform range-height Caretsian grid."
   ]
  },
  {
   "cell_type": "markdown",
   "metadata": {},
   "source": [
    "## Resources and References\n",
    "* [ARM Data Discovery](https://adc.arm.gov/discovery)\n",
    "* [TRACER Field Campaign](https://www.arm.gov/research/campaigns/amf2021tracer)\n",
    "* CSAPR Radar Data:\n",
    "    - Bharadwaj, N., Collis, S., Hardin, J., Isom, B., Lindenmaier, I., Matthews, A., & Nelson, D. C-Band Scanning ARM Precipitation Radar (CSAPR2CFR). Atmospheric Radiation Measurement (ARM) User Facility. https://doi.org/10.5439/1467901\n",
    "* Py-ART:\n",
    "    - Helmus, J.J. & Collis, S.M., (2016). The Python ARM Radar Toolkit (Py-ART), a Library for Working with Weather Radar Data in the Python Programming Language. Journal of Open Research Software. 4(1), p.e25. DOI: http://doi.org/10.5334/jors.119\n",
    "* ACT:\n",
    "    - Adam Theisen, Ken Kehoe, Zach Sherman, Bobby Jackson, Alyssa Sockol, Corey Godine, Max Grover, Jason Hemedinger, Jenni Kyrouac, Maxwell Levin, Michael Giansiracusa (2022). The Atmospheric Data Community Toolkit (ACT). Zenodo. DOI: https://doi.org/10.5281/zenodo.6712343"
   ]
  },
  {
   "cell_type": "code",
   "execution_count": null,
   "metadata": {},
   "outputs": [],
   "source": []
  }
 ],
 "metadata": {
  "kernelspec": {
   "display_name": "Python 3 (ipykernel)",
   "language": "python",
   "name": "python3"
  },
  "language_info": {
   "codemirror_mode": {
    "name": "ipython",
    "version": 3
   },
   "file_extension": ".py",
   "mimetype": "text/x-python",
   "name": "python",
   "nbconvert_exporter": "python",
   "pygments_lexer": "ipython3",
   "version": "3.9.16"
  }
 },
 "nbformat": 4,
 "nbformat_minor": 4
}
