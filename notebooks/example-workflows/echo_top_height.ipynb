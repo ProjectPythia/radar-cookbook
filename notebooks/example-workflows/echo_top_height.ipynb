{
 "cells": [
  {
   "cell_type": "markdown",
   "id": "bc698c73-e8e9-4ce1-8588-03e6d50ea17b",
   "metadata": {},
   "source": [
    "# Echo top height calculation from NEXRAD PPI volume data: "
   ]
  },
  {
   "cell_type": "markdown",
   "id": "952e5a6a-356e-4fd4-9a04-a0768f6a81cc",
   "metadata": {
    "tags": []
   },
   "source": [
    "An echo top is the radar indicated top of an area of precipitation. This notebook demonstrates how to calculate the echo top height (ETH) in a NEXRAD PPI volume scan to determine the maximum elevation angle at which a certain reflectivity threshold is exceeded.\n",
    "\n",
    "This example uses the echo top height (ETH) calculation code written by [Valentin Louf](https://github.com/vlouf), available at this [github repository](https://github.com/vlouf/eth_radar.git)."
   ]
  },
  {
   "cell_type": "markdown",
   "id": "cd90a6b5-b0a0-4eca-a6a3-e18d17f0c790",
   "metadata": {},
   "source": [
    "---"
   ]
  },
  {
   "cell_type": "markdown",
   "id": "f9476fb5-22f4-4fc9-99ad-62118c6d3c65",
   "metadata": {},
   "source": [
    "## Overview\n",
    "\n",
    "The notebook applies the modified ETH algorithm proposed by [Lakshmanan et al. (2013)](https://journals.ametsoc.org/view/journals/wefo/28/2/waf-d-12-00084_1.xml) to a NEXRAD PPI volume scan.\n",
    "\n",
    "The modified algorithm comprises these steps:\n",
    "\n",
    "1. Find the maximum elevation angle ($\\theta_{b}$) where reflectivity ($Z_{b}$) exceeds the echo-top reflectivity threshold.\n",
    "If $\\theta_{b}$ is not the highest elevation scan in the virtual volume, obtain the reflectivity value ($Z_{a}$) at the next higher elevation angle ($\\theta_{a}$). Then, the echo-top height is given by the height of the radar beam at an elevation angle:\n",
    "\n",
    "$$\\theta_T = (Z_T - Z_a) \\frac{\\theta_b - \\theta_a}{Z_b - Z_a} + \\theta_b$$\n",
    "\n",
    "where $Z_T$ is the threshold value (e.g., 0 dBZ, 18 dBZ) used to compute the echo top.\n",
    "\n",
    "2. If $\\theta_{b}$ is the highest elevation scan available, set $\\theta_{T} = \\theta_{b} + \\beta/2$, where $\\beta$ is the half-power beamwidth. This condition is met far away from the radar if higher-elevation scans have shorter ranges than a base “surveillance” scan and very close to the radar if the highest-elevation scan does not sample the top of the cloud. Under these circumstances, $\\theta_{T}$ is set to be the top of the beam containing dBZ $\\geq Z_T$; that is, the traditional echo-top algorithm is followed when there are no data available from a higher-elevation scan."
   ]
  },
  {
   "cell_type": "markdown",
   "id": "ea2da36e-96de-4772-b86f-d459edbb331c",
   "metadata": {},
   "source": [
    "## Prerequisites\n",
    "\n",
    "| Concepts | Importance | Notes |\n",
    "| --- | --- | --- |\n",
    "| [Matplotlib Basics](https://foundations.projectpythia.org/core/matplotlib/matplotlib-basics.html) | Required | Basic plotting |\n",
    "| [Intro to Cartopy](https://foundations.projectpythia.org/core/cartopy/cartopy.html) | Required | Geospatial plotting |\n",
    "| [Py-ART Basics](../foundations/pyart-basics) | Required | IO/Visualization |\n",
    "| [Numba](https://numba.pydata.org/) | Helpful | Familiarity with vectorization/optimization of Python functions|\n",
    "\n",
    "- **Time to learn**: 25 minutes"
   ]
  },
  {
   "cell_type": "markdown",
   "id": "02af52c6-eb9a-468f-a438-72f588c93fa8",
   "metadata": {},
   "source": [
    "## Imports"
   ]
  },
  {
   "cell_type": "code",
   "execution_count": null,
   "id": "cde1be87-1b42-48bd-a33b-90d4aff9bfa8",
   "metadata": {
    "tags": []
   },
   "outputs": [],
   "source": [
    "import pyart\n",
    "import numpy as np\n",
    "from echotop import cloud_top_height, grid_cloud_top\n",
    "import matplotlib.pyplot as plt\n",
    "import cartopy.crs as ccrs"
   ]
  },
  {
   "cell_type": "markdown",
   "id": "bdae18b7-d238-4456-9380-0bcf529420fd",
   "metadata": {},
   "source": [
    "## Define our function to compute ETH on a uniform x-y grid\n",
    "\n",
    "The input file can be a Next Generation Weather Radar (NEXRAD) archive file from Amazon Web Services. We will remotely access  this file and use a reflectivity threshold `eth_thld` to define our echo tops."
   ]
  },
  {
   "cell_type": "code",
   "execution_count": null,
   "id": "230e7462-9567-4067-8a73-651a5e434697",
   "metadata": {
    "tags": []
   },
   "outputs": [],
   "source": [
    "def compute_eth(infile, eth_thld=0):\n",
    "    \"\"\"\n",
    "    Compute the Echo Top Height on a grid\n",
    "    \n",
    "    Parameters\n",
    "    ==========\n",
    "    infile (str): Filename of NEXRAD Level 2 Archive file. The files hosted by\n",
    "    at the NOAA National Climate Data Center [1]_ as well as on the\n",
    "    UCAR THREDDS Data Server [2]_ have been tested. Other NEXRAD\n",
    "    Level 2 Archive files may or may not work. Message type 1 file\n",
    "    and message type 31 files are supported.\n",
    "    \n",
    "    eth_thld (float): Reflectivity threshold for which we want to compute \n",
    "    the echo top height.\n",
    "        \n",
    "    Returns:\n",
    "    ========\n",
    "    cth_grid: ndarray <x, y>\n",
    "        Echo top height on a grid of dimension (x, y).  \n",
    "        \n",
    "    References\n",
    "    ----------\n",
    "    .. [1] http://www.ncdc.noaa.gov/\n",
    "    .. [2] http://thredds.ucar.edu/thredds/catalog.html\n",
    "    \"\"\"\n",
    "    # Reading NEXRAD L2 data stored on AWS cloud\n",
    "    \n",
    "    radar = pyart.io.read_nexrad_archive(infile)\n",
    "\n",
    "    r = radar.range['data']\n",
    "    azimuth = radar.azimuth['data']\n",
    "    elevation = radar.elevation['data']\n",
    "    refl = np.array(radar.fields['reflectivity']['data'])\n",
    "    st_sweep = radar.sweep_start_ray_index['data']\n",
    "    ed_sweep = radar.sweep_end_ray_index['data']\n",
    "\n",
    "    # Compute ETH. The 'echotop' package uses @jit decorator to optimize \n",
    "    # the 'cloud_top_height' function\n",
    "    cth = cloud_top_height(r, azimuth, elevation, st_sweep, ed_sweep, refl, eth_thld=eth_thld)\n",
    "\n",
    "    # Grid data\n",
    "    th = 450 - azimuth[slice(st_sweep[0], ed_sweep[0] + 1)]\n",
    "    th[th < 0] += 360\n",
    "\n",
    "    R, A = np.meshgrid(r, th)\n",
    "    x = R * np.cos(np.pi * A / 180)\n",
    "    y = R * np.sin(np.pi * A / 180)\n",
    "\n",
    "    xgrid = np.arange(-MAX_RANGE, MAX_RANGE + RANGE_STEP / 2, RANGE_STEP).astype(np.int32)\n",
    "    [X, Y] = np.meshgrid(xgrid, xgrid)\n",
    "    cth_grid = grid_cloud_top(\n",
    "        cth, x, y, X, Y, nnearest=24, maxdist=2500\n",
    "    )  # nearest=24 should be enough to sample out to 2500m on a 1000m grid\n",
    "    cth_grid = np.ma.masked_invalid(cth_grid).astype(np.int32).filled(FILLVALUE)\n",
    "\n",
    "    return cth_grid"
   ]
  },
  {
   "cell_type": "markdown",
   "id": "119f8b9d-2bb7-40d2-a5fd-f9cd569425d0",
   "metadata": {},
   "source": [
    "## Read and plot reflectivity and velocity fields for a sample file "
   ]
  },
  {
   "cell_type": "code",
   "execution_count": null,
   "id": "5dd88502-71b1-4143-8d9a-df8214e46248",
   "metadata": {
    "tags": []
   },
   "outputs": [],
   "source": [
    "aws_nexrad_level2_file = (\n",
    "    \"s3://noaa-nexrad-level2/2022/03/22/KHGX/KHGX20220322_120125_V06\"\n",
    ")\n",
    "\n",
    "radar = pyart.io.read_nexrad_archive(aws_nexrad_level2_file)\n",
    "\n",
    "\n",
    "fig = plt.figure(figsize=(12, 4))\n",
    "display = pyart.graph.RadarMapDisplay(radar)\n",
    "\n",
    "ax = plt.subplot(121, projection=ccrs.PlateCarree())\n",
    "\n",
    "display.plot_ppi_map(\n",
    "    \"reflectivity\",\n",
    "    sweep=0,\n",
    "    ax=ax,\n",
    "    colorbar_label=\"Equivalent Relectivity ($Z_{e}$) \\n (dBZ)\",\n",
    "    vmin=-20,\n",
    "    vmax=60,\n",
    ")\n",
    "\n",
    "ax = plt.subplot(122, projection=ccrs.PlateCarree())\n",
    "\n",
    "display.plot_ppi_map(\n",
    "    \"velocity\",\n",
    "    sweep=1,\n",
    "    ax=ax,\n",
    "    colorbar_label=\"Radial Velocity ($V_{r}$) \\n (m/s)\",\n",
    "    vmin=-70,\n",
    "    vmax=70,\n",
    ")"
   ]
  },
  {
   "cell_type": "markdown",
   "id": "cb83e38d-ce9f-42d9-ba00-625ad082f78c",
   "metadata": {},
   "source": [
    "## Define some global constants and compute the ETH on a horizontally uniform grid\n",
    "\n",
    "These constants are required by the `compute_eth` function to grid the data from polar coordinates to a horizontally uniform grid. These three constants are defined as:\n",
    "\n",
    "`FILLVALUE` (Value to replace missing data)\\\n",
    "`RANGE_STEP` (Uniform horizontal grid spacing in x and y dimensions)\\\n",
    "`MAX_RANGE` (Maximum range up to which ETH to be calculated from gridded data)"
   ]
  },
  {
   "cell_type": "code",
   "execution_count": null,
   "id": "674d55c7-b165-4286-b06f-dac457f26445",
   "metadata": {
    "tags": []
   },
   "outputs": [],
   "source": [
    "FILLVALUE: int = -9999 \n",
    "RANGE_STEP: int = 1000 \n",
    "MAX_RANGE: float = 250e3 \n",
    "\n",
    "cth_grid = compute_eth(aws_nexrad_level2_file, eth_thld=20)"
   ]
  },
  {
   "cell_type": "markdown",
   "id": "c8d6b605-a03d-499b-97f9-c1ec524fdc45",
   "metadata": {},
   "source": [
    "## Plot the gridded echo/cloud top height using matplotlib"
   ]
  },
  {
   "cell_type": "code",
   "execution_count": null,
   "id": "bd78319e-e425-4741-a6e1-c37f9a121b23",
   "metadata": {
    "tags": []
   },
   "outputs": [],
   "source": [
    "p = plt.pcolormesh(cth_grid,\n",
    "                   vmin=0,\n",
    "                   vmax=15000,\n",
    "                   cmap='pyart_ChaseSpectral')\n",
    "\n",
    "plt.colorbar(mappable=p)"
   ]
  },
  {
   "cell_type": "markdown",
   "id": "968f25b0-9e0f-4db4-9e46-36abb9bbe62c",
   "metadata": {},
   "source": [
    "---"
   ]
  },
  {
   "cell_type": "markdown",
   "id": "2a310774-cde9-42bf-a37e-746a9fbc767f",
   "metadata": {},
   "source": [
    "## Summary\n",
    "Within this example, we walked through how to access ARM data from a field campaign in Texas, plot a quick look of the RHI scan data, and grid our RHI data from native (polar) coordinates to a uniform range-height Caretsian grid."
   ]
  },
  {
   "cell_type": "markdown",
   "id": "d0d0b4fe-effc-467e-bdd1-8ae37afb3149",
   "metadata": {},
   "source": [
    "## Resources and References\n",
    "* [NOAA NEXRAD on AWS](https://registry.opendata.aws/noaa-nexrad/)\n",
    "* [Read NEXRAD on AWS](https://arm-doe.github.io/pyart/examples/io/plot_nexrad_data_aws.html#sphx-glr-examples-io-plot-nexrad-data-aws-py)\n",
    "* Py-ART:\n",
    "    - Helmus, J.J. & Collis, S.M., (2016). The Python ARM Radar Toolkit (Py-ART), a Library for Working with Weather Radar Data in the Python Programming Language. Journal of Open Research Software. 4(1), p.e25. DOI: http://doi.org/10.5334/jors.119\n",
    "* Echo-top height algorithm:\n",
    "    - Lakshmanan, V., Hondl, K., Potvin, C. K., & Preignitz, D. (2013). An improved method for estimating radar echo-top height. Weather and Forecasting, 28(2), 481-488. DOI: https://doi.org/10.1175/WAF-D-12-00084.1"
   ]
  },
  {
   "cell_type": "code",
   "execution_count": null,
   "id": "2ed1324b-0666-419d-b05c-db085d1754b6",
   "metadata": {},
   "outputs": [],
   "source": []
  }
 ],
 "metadata": {
  "kernelspec": {
   "display_name": "Python 3 (ipykernel)",
   "language": "python",
   "name": "python3"
  },
  "language_info": {
   "codemirror_mode": {
    "name": "ipython",
    "version": 3
   },
   "file_extension": ".py",
   "mimetype": "text/x-python",
   "name": "python",
   "nbconvert_exporter": "python",
   "pygments_lexer": "ipython3",
   "version": "3.9.16"
  }
 },
 "nbformat": 4,
 "nbformat_minor": 5
}
