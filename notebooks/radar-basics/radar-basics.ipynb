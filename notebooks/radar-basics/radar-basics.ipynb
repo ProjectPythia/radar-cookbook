{
 "cells": [
  {
   "cell_type": "markdown",
   "metadata": {},
   "source": [
    "<img src=\"../gifs-clips/KFTG_loop.gif\" alt=\"KFTG radar loop, Source: National Weather Service\" width=400 height=400>\n",
    "Clip Source: National Weather Service"
   ]
  },
  {
   "cell_type": "markdown",
   "metadata": {
    "tags": []
   },
   "source": [
    "# **The Basics of Weather Radar**"
   ]
  },
  {
   "cell_type": "markdown",
   "metadata": {},
   "source": [
    "---"
   ]
  },
  {
   "cell_type": "markdown",
   "metadata": {},
   "source": [
    "## Overview\n",
    "\n",
    "Within this notebook, we will cover:\n",
    "\n",
    "1. How do weather radars work?\n",
    "    - Doppler Radar\n",
    "    - Emmitted Energy\n",
    "    - Dual-Polarization\n",
    "2. Fundamental Radar Products\n",
    "    - Base Reflectivity & Composite Reflectivity\n",
    "    - Base Velocity & Storm Relative Velocity\n",
    "    - Echo Tops\n",
    "    - Correlation Coefficient\n",
    "    - Differential Reflectivity\n",
    "3. Artifacts in Radar Data\n",
    "    - Clutter\n",
    "    - Three-Body Scatter Spike (TBSS)\n",
    "    - Velocity Alisiasing "
   ]
  },
  {
   "cell_type": "markdown",
   "metadata": {
    "tags": []
   },
   "source": [
    "## Prerequisites\n",
    "\n",
    "| Concepts | Importance | Notes |\n",
    "| --- | --- | --- |\n",
    "| [Introduction to Meteorology](https://www.meted.ucar.edu/education_training/lesson/1287) | Helpful | Basic concepts of meteorology | \n",
    "| [Introduction to Imagery & Remote Sening](https://introduction-to-remote-sensing-learngis.hub.arcgis.com/) | Helpful | Intro concepts of remote sensing |\n",
    "\n",
    "- **Time to learn**: ~ 3 hours\n"
   ]
  },
  {
   "cell_type": "markdown",
   "metadata": {},
   "source": [
    "---"
   ]
  },
  {
   "cell_type": "markdown",
   "metadata": {
    "tags": []
   },
   "source": [
    "## **How do weather radars work?**"
   ]
  },
  {
   "cell_type": "markdown",
   "metadata": {},
   "source": [
    "<img src=\"../images/radar.webp\" width=500 height=250/>\n",
    "Image Source: Sundry Photography/Public domain"
   ]
  },
  {
   "cell_type": "markdown",
   "metadata": {},
   "source": [
    "### Doppler Radar"
   ]
  },
  {
   "cell_type": "markdown",
   "metadata": {},
   "source": [
    "To work with radar data as a software engineer, atmospheric scientist, operational meteorologist, or in many other positions, knowledge of radar is paramount. So, how do weather radars work? Let's start with the basics. **Radar** stands for RAdio Detection and Ranging, and it is an electronic instrument used for the detection and ranging of distant objects that scatter or reflect radio energy emmitted by the radar. A **Doppler** radar is a radar that detects and interprets the Doppler Effect in terms of the radial velocity (speed towards or away from the radar) of a target."
   ]
  },
  {
   "cell_type": "markdown",
   "metadata": {},
   "source": [
    "### Emmitted Energy"
   ]
  },
  {
   "cell_type": "markdown",
   "metadata": {},
   "source": [
    "<video controls loop src=\"../gifs-clips/radop1.mp4\"/>\n",
    "Clip Source: The COMET Program"
   ]
  },
  {
   "cell_type": "markdown",
   "metadata": {},
   "source": [
    "Doppler radar sends out energy in pulses and listens for any returned signal."
   ]
  },
  {
   "cell_type": "markdown",
   "metadata": {},
   "source": [
    "### Dual-Polarization"
   ]
  },
  {
   "cell_type": "markdown",
   "metadata": {},
   "source": [
    "## **Fundamental Radar Products**"
   ]
  },
  {
   "cell_type": "markdown",
   "metadata": {},
   "source": [
    "### Base Reflectivity & Composite Reflectivity"
   ]
  },
  {
   "cell_type": "markdown",
   "metadata": {},
   "source": [
    "### Base Velocity & Storm Relative Velocity"
   ]
  },
  {
   "cell_type": "markdown",
   "metadata": {},
   "source": [
    "### Echo Tops"
   ]
  },
  {
   "cell_type": "markdown",
   "metadata": {},
   "source": [
    "### Correlation Coefficient"
   ]
  },
  {
   "cell_type": "markdown",
   "metadata": {},
   "source": [
    "### Differential Reflectivity"
   ]
  },
  {
   "cell_type": "markdown",
   "metadata": {},
   "source": [
    "## **Artifacts in Radar Data**"
   ]
  },
  {
   "cell_type": "markdown",
   "metadata": {},
   "source": [
    "### Clutter"
   ]
  },
  {
   "cell_type": "markdown",
   "metadata": {},
   "source": [
    "### Three-Body Scatter Spike (TBSS)"
   ]
  },
  {
   "cell_type": "markdown",
   "metadata": {},
   "source": [
    "### Velocity Aliasing"
   ]
  },
  {
   "cell_type": "markdown",
   "metadata": {},
   "source": [
    "---"
   ]
  },
  {
   "cell_type": "markdown",
   "metadata": {},
   "source": [
    "## **Summary**\n",
    "In this cookbook we have discussed the basics of weather radars including the common products that meteorologists use to issue forecasts and warnings.\n",
    "\n"
   ]
  },
  {
   "cell_type": "markdown",
   "metadata": {},
   "source": [
    "## **Additional Learning Resources**\n",
    "- [COMET MetEd Modules](https://www.meted.ucar.edu/index.php)\n",
    "- [NOAA JetStream](https://www.noaa.gov/jetstream/jetstream)\n",
    "- [Project Pythia](https://projectpythia.org/)\n",
    "- [Unidata Learning Resources](https://www.unidata.ucar.edu/)"
   ]
  },
  {
   "cell_type": "markdown",
   "metadata": {},
   "source": [
    "## **References**\n",
    "- COMET MetEd\n",
    "- National Oceanic and Atmospheric Administration (NOAA)\n",
    "- University Corporation for Atmospheric Research (UCAR)\n",
    "- National Center for Atmospheric Research (NCAR)\n",
    "- Unidata\n",
    "- National Weather Service (NWS)\n",
    "- American Meteorological Society Glossary of Meteorology"
   ]
  }
 ],
 "metadata": {
  "kernelspec": {
   "display_name": "Python 3 (ipykernel)",
   "language": "python",
   "name": "python3"
  },
  "language_info": {
   "codemirror_mode": {
    "name": "ipython",
    "version": 3
   },
   "file_extension": ".py",
   "mimetype": "text/x-python",
   "name": "python",
   "nbconvert_exporter": "python",
   "pygments_lexer": "ipython3",
   "version": "3.10.10"
  },
  "nbdime-conflicts": {
   "local_diff": [
    {
     "diff": [
      {
       "diff": [
        {
         "key": 0,
         "op": "addrange",
         "valuelist": [
          "Python 3"
         ]
        },
        {
         "key": 0,
         "length": 1,
         "op": "removerange"
        }
       ],
       "key": "display_name",
       "op": "patch"
      }
     ],
     "key": "kernelspec",
     "op": "patch"
    }
   ],
   "remote_diff": [
    {
     "diff": [
      {
       "diff": [
        {
         "key": 0,
         "op": "addrange",
         "valuelist": [
          "Python3"
         ]
        },
        {
         "key": 0,
         "length": 1,
         "op": "removerange"
        }
       ],
       "key": "display_name",
       "op": "patch"
      }
     ],
     "key": "kernelspec",
     "op": "patch"
    }
   ]
  },
  "toc-autonumbering": false
 },
 "nbformat": 4,
 "nbformat_minor": 4
}
